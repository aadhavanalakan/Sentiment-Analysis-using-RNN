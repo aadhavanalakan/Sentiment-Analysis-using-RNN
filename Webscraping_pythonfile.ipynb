{
  "cells": [
    {
      "cell_type": "markdown",
      "source": [
        "Web scraping using BeautifulSoup"
      ],
      "metadata": {
        "id": "l8N_HIIZ7hyf"
      },
      "id": "l8N_HIIZ7hyf"
    },
    {
      "cell_type": "code",
      "execution_count": null,
      "id": "bfee8f3a",
      "metadata": {
        "id": "bfee8f3a"
      },
      "outputs": [],
      "source": [
        "import requests\n",
        "from bs4 import BeautifulSoup\n",
        "import pandas as pd\n",
        "import timeit"
      ]
    },
    {
      "cell_type": "code",
      "execution_count": null,
      "id": "0dab0563",
      "metadata": {
        "id": "0dab0563",
        "outputId": "4d6bb338-49fd-4efd-b6c2-c30606a570ee"
      },
      "outputs": [
        {
          "name": "stdout",
          "output_type": "stream",
          "text": [
            "Fin.\n"
          ]
        }
      ],
      "source": [
        "# Scraping the data from Opentable website (Founding Farmer's restaurant page)\n",
        "%%time\n",
        "import requests\n",
        "from bs4 import BeautifulSoup\n",
        "import pandas as pd\n",
        "\n",
        "headers = {'User-Agent': 'Mozilla/5.0 (Windows NT 10.0; Win64; x64) AppleWebKit/537.36 (KHTML, like Gecko) Chrome/100.0.4896.75 Safari/537.36'}\n",
        "\n",
        "questionlist = []\n",
        "\n",
        "def getQuestions(page):\n",
        "    url = f'https://www.opentable.com/r/founding-farmers-dc-washington?page={page}'\n",
        "    r = requests.get(url, headers=headers)\n",
        "    soup = BeautifulSoup(r.text, 'html.parser')\n",
        "    questions = soup.find_all('div', {'class': 'oc-reviews-ee80f19c'})\n",
        "    for item in questions:\n",
        "        question = (item.find('p').text)\n",
        "        questionlist.append(question)\n",
        "    return\n",
        "\n",
        "for x in range(1,251):\n",
        "    getQuestions(x)\n",
        "\n",
        "df = pd.DataFrame(questionlist)\n",
        "print('Finished')"
      ]
    },
    {
      "cell_type": "code",
      "execution_count": null,
      "id": "853ecb2f",
      "metadata": {
        "id": "853ecb2f",
        "outputId": "47bfecdd-6665-48a8-b659-85da5dd5b78c"
      },
      "outputs": [
        {
          "data": {
            "text/html": [
              "<div>\n",
              "<style scoped>\n",
              "    .dataframe tbody tr th:only-of-type {\n",
              "        vertical-align: middle;\n",
              "    }\n",
              "\n",
              "    .dataframe tbody tr th {\n",
              "        vertical-align: top;\n",
              "    }\n",
              "\n",
              "    .dataframe thead th {\n",
              "        text-align: right;\n",
              "    }\n",
              "</style>\n",
              "<table border=\"1\" class=\"dataframe\">\n",
              "  <thead>\n",
              "    <tr style=\"text-align: right;\">\n",
              "      <th></th>\n",
              "      <th>0</th>\n",
              "    </tr>\n",
              "  </thead>\n",
              "  <tbody>\n",
              "    <tr>\n",
              "      <th>0</th>\n",
              "      <td>Nice portions and food. Too much noise tho, an...</td>\n",
              "    </tr>\n",
              "    <tr>\n",
              "      <th>1</th>\n",
              "      <td>Founding Farmers doesn’t disappoint. The food ...</td>\n",
              "    </tr>\n",
              "    <tr>\n",
              "      <th>2</th>\n",
              "      <td>I love the concept behind this restaurant with...</td>\n",
              "    </tr>\n",
              "    <tr>\n",
              "      <th>3</th>\n",
              "      <td>Good food, good service.</td>\n",
              "    </tr>\n",
              "    <tr>\n",
              "      <th>4</th>\n",
              "      <td>Great food and good service.  Liked the variet...</td>\n",
              "    </tr>\n",
              "    <tr>\n",
              "      <th>...</th>\n",
              "      <td>...</td>\n",
              "    </tr>\n",
              "    <tr>\n",
              "      <th>9995</th>\n",
              "      <td>We made a last minute reservation for Thanksgi...</td>\n",
              "    </tr>\n",
              "    <tr>\n",
              "      <th>9996</th>\n",
              "      <td>don’t go this this place ... taco bell is bett...</td>\n",
              "    </tr>\n",
              "    <tr>\n",
              "      <th>9997</th>\n",
              "      <td>Food was amazing and best carrot cake I have e...</td>\n",
              "    </tr>\n",
              "    <tr>\n",
              "      <th>9998</th>\n",
              "      <td>I went here for Thanksgiving lunch and it was ...</td>\n",
              "    </tr>\n",
              "    <tr>\n",
              "      <th>9999</th>\n",
              "      <td>Thanksgiving lunch 2017, we couldn't have pick...</td>\n",
              "    </tr>\n",
              "  </tbody>\n",
              "</table>\n",
              "<p>10000 rows × 1 columns</p>\n",
              "</div>"
            ],
            "text/plain": [
              "                                                      0\n",
              "0     Nice portions and food. Too much noise tho, an...\n",
              "1     Founding Farmers doesn’t disappoint. The food ...\n",
              "2     I love the concept behind this restaurant with...\n",
              "3                              Good food, good service.\n",
              "4     Great food and good service.  Liked the variet...\n",
              "...                                                 ...\n",
              "9995  We made a last minute reservation for Thanksgi...\n",
              "9996  don’t go this this place ... taco bell is bett...\n",
              "9997  Food was amazing and best carrot cake I have e...\n",
              "9998  I went here for Thanksgiving lunch and it was ...\n",
              "9999  Thanksgiving lunch 2017, we couldn't have pick...\n",
              "\n",
              "[10000 rows x 1 columns]"
            ]
          },
          "execution_count": 22,
          "metadata": {},
          "output_type": "execute_result"
        }
      ],
      "source": [
        "# The raw reviews from the page\n",
        "df"
      ]
    },
    {
      "cell_type": "code",
      "execution_count": null,
      "id": "78597aad",
      "metadata": {
        "id": "78597aad"
      },
      "outputs": [],
      "source": [
        "#df.to_csv(\"Founding Farmers_DC.csv\")"
      ]
    },
    {
      "cell_type": "code",
      "execution_count": null,
      "id": "be0e726d",
      "metadata": {
        "id": "be0e726d"
      },
      "outputs": [],
      "source": [
        ""
      ]
    }
  ],
  "metadata": {
    "kernelspec": {
      "display_name": "Python 3 (ipykernel)",
      "language": "python",
      "name": "python3"
    },
    "language_info": {
      "codemirror_mode": {
        "name": "ipython",
        "version": 3
      },
      "file_extension": ".py",
      "mimetype": "text/x-python",
      "name": "python",
      "nbconvert_exporter": "python",
      "pygments_lexer": "ipython3",
      "version": "3.9.11"
    },
    "colab": {
      "name": "Group5_Webscraping_pythonfile_DS2_2022",
      "provenance": []
    }
  },
  "nbformat": 4,
  "nbformat_minor": 5
}