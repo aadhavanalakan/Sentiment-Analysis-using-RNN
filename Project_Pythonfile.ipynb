{
  "cells": [
    {
      "cell_type": "markdown",
      "source": [
        "### **Sentiment Analysis of Customer Reviewson a restaurantusing Deep Recurrent Neural NetworkLearning Techniques**"
      ],
      "metadata": {
        "id": "5v3eeJf9UYnw"
      },
      "id": "5v3eeJf9UYnw"
    },
    {
      "cell_type": "markdown",
      "source": [
        "DS - 2 Project by Group 5"
      ],
      "metadata": {
        "id": "8S1EgGRrUl-y"
      },
      "id": "8S1EgGRrUl-y"
    },
    {
      "cell_type": "code",
      "execution_count": 1,
      "id": "f4fb5d9a",
      "metadata": {
        "id": "f4fb5d9a",
        "colab": {
          "base_uri": "https://localhost:8080/"
        },
        "outputId": "1a2a5dd2-597b-4c2b-8e35-679b704ae83f"
      },
      "outputs": [
        {
          "output_type": "stream",
          "name": "stdout",
          "text": [
            "[nltk_data] Downloading package wordnet to /root/nltk_data...\n",
            "[nltk_data]   Unzipping corpora/wordnet.zip.\n",
            "[nltk_data] Downloading package omw-1.4 to /root/nltk_data...\n",
            "[nltk_data]   Unzipping corpora/omw-1.4.zip.\n"
          ]
        }
      ],
      "source": [
        "import numpy as np\n",
        "import pandas as pd\n",
        "import timeit\n",
        "from sklearn.metrics import confusion_matrix\n",
        "import seaborn as sn\n",
        "import matplotlib.pyplot as plt\n",
        "%matplotlib inline\n",
        "import nltk\n",
        "from textblob import Word\n",
        "from collections import Counter\n",
        "nltk.download('wordnet')\n",
        "nltk.download('omw-1.4')\n",
        "from keras.preprocessing.text import Tokenizer\n",
        "from keras.preprocessing.sequence import pad_sequences\n",
        "from keras.models import Sequential\n",
        "from keras.layers import Dense, Embedding, LSTM, SpatialDropout1D\n",
        "from sklearn.model_selection import train_test_split\n",
        "from keras.utils.np_utils import to_categorical\n",
        "from keras.callbacks import EarlyStopping\n",
        "from keras.layers import Dropout\n",
        "import re\n",
        "import tensorflow as tf\n",
        "from tensorflow import keras\n",
        "import random"
      ]
    },
    {
      "cell_type": "code",
      "execution_count": 5,
      "id": "e806adb1",
      "metadata": {
        "colab": {
          "base_uri": "https://localhost:8080/",
          "resources": {
            "http://localhost:8080/nbextensions/google.colab/files.js": {
              "data": "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",
              "ok": true,
              "headers": [
                [
                  "content-type",
                  "application/javascript"
                ]
              ],
              "status": 200,
              "status_text": ""
            }
          },
          "height": 73
        },
        "id": "e806adb1",
        "outputId": "684726b9-5f2e-4d4a-ea1d-5e6bf7db4dc1"
      },
      "outputs": [
        {
          "output_type": "display_data",
          "data": {
            "text/plain": [
              "<IPython.core.display.HTML object>"
            ],
            "text/html": [
              "\n",
              "     <input type=\"file\" id=\"files-8c41f642-c7ba-468c-9e65-b4e0e11f1b42\" name=\"files[]\" multiple disabled\n",
              "        style=\"border:none\" />\n",
              "     <output id=\"result-8c41f642-c7ba-468c-9e65-b4e0e11f1b42\">\n",
              "      Upload widget is only available when the cell has been executed in the\n",
              "      current browser session. Please rerun this cell to enable.\n",
              "      </output>\n",
              "      <script src=\"/nbextensions/google.colab/files.js\"></script> "
            ]
          },
          "metadata": {}
        },
        {
          "output_type": "stream",
          "name": "stdout",
          "text": [
            "Saving Founding Farmers_Consolidated.csv to Founding Farmers_Consolidated.csv\n"
          ]
        }
      ],
      "source": [
        "from google.colab import files\n",
        "uploaded = files.upload()"
      ]
    },
    {
      "cell_type": "code",
      "source": [
        "import io\n",
        "df = pd.read_csv(io.BytesIO(uploaded['Founding Farmers_Consolidated.csv']))"
      ],
      "metadata": {
        "id": "Y28elJcMWMff"
      },
      "id": "Y28elJcMWMff",
      "execution_count": 6,
      "outputs": []
    },
    {
      "cell_type": "markdown",
      "id": "fd062a54",
      "metadata": {
        "id": "fd062a54"
      },
      "source": [
        "# Analysing the raw data got from web scraping"
      ]
    },
    {
      "cell_type": "code",
      "execution_count": 7,
      "id": "d6dd19c0",
      "metadata": {
        "colab": {
          "base_uri": "https://localhost:8080/",
          "height": 206
        },
        "id": "d6dd19c0",
        "outputId": "23a3cb94-f148-4036-8dd3-b446824329c5"
      },
      "outputs": [
        {
          "output_type": "execute_result",
          "data": {
            "text/plain": [
              "   S/N                                            Reviews\n",
              "0    1  Knowing this restaurant does not have Gluten F...\n",
              "1    2  Food was great but appetizers arrived right be...\n",
              "2    3  We did an early dinner and the service was sup...\n",
              "3    4  The worst and cheapest meat cut I have ever ta...\n",
              "4    5  It was such a great experience! Enjoyed visiti..."
            ],
            "text/html": [
              "\n",
              "  <div id=\"df-f550a14c-c3ad-4ce2-8805-249c40cde4b7\">\n",
              "    <div class=\"colab-df-container\">\n",
              "      <div>\n",
              "<style scoped>\n",
              "    .dataframe tbody tr th:only-of-type {\n",
              "        vertical-align: middle;\n",
              "    }\n",
              "\n",
              "    .dataframe tbody tr th {\n",
              "        vertical-align: top;\n",
              "    }\n",
              "\n",
              "    .dataframe thead th {\n",
              "        text-align: right;\n",
              "    }\n",
              "</style>\n",
              "<table border=\"1\" class=\"dataframe\">\n",
              "  <thead>\n",
              "    <tr style=\"text-align: right;\">\n",
              "      <th></th>\n",
              "      <th>S/N</th>\n",
              "      <th>Reviews</th>\n",
              "    </tr>\n",
              "  </thead>\n",
              "  <tbody>\n",
              "    <tr>\n",
              "      <th>0</th>\n",
              "      <td>1</td>\n",
              "      <td>Knowing this restaurant does not have Gluten F...</td>\n",
              "    </tr>\n",
              "    <tr>\n",
              "      <th>1</th>\n",
              "      <td>2</td>\n",
              "      <td>Food was great but appetizers arrived right be...</td>\n",
              "    </tr>\n",
              "    <tr>\n",
              "      <th>2</th>\n",
              "      <td>3</td>\n",
              "      <td>We did an early dinner and the service was sup...</td>\n",
              "    </tr>\n",
              "    <tr>\n",
              "      <th>3</th>\n",
              "      <td>4</td>\n",
              "      <td>The worst and cheapest meat cut I have ever ta...</td>\n",
              "    </tr>\n",
              "    <tr>\n",
              "      <th>4</th>\n",
              "      <td>5</td>\n",
              "      <td>It was such a great experience! Enjoyed visiti...</td>\n",
              "    </tr>\n",
              "  </tbody>\n",
              "</table>\n",
              "</div>\n",
              "      <button class=\"colab-df-convert\" onclick=\"convertToInteractive('df-f550a14c-c3ad-4ce2-8805-249c40cde4b7')\"\n",
              "              title=\"Convert this dataframe to an interactive table.\"\n",
              "              style=\"display:none;\">\n",
              "        \n",
              "  <svg xmlns=\"http://www.w3.org/2000/svg\" height=\"24px\"viewBox=\"0 0 24 24\"\n",
              "       width=\"24px\">\n",
              "    <path d=\"M0 0h24v24H0V0z\" fill=\"none\"/>\n",
              "    <path d=\"M18.56 5.44l.94 2.06.94-2.06 2.06-.94-2.06-.94-.94-2.06-.94 2.06-2.06.94zm-11 1L8.5 8.5l.94-2.06 2.06-.94-2.06-.94L8.5 2.5l-.94 2.06-2.06.94zm10 10l.94 2.06.94-2.06 2.06-.94-2.06-.94-.94-2.06-.94 2.06-2.06.94z\"/><path d=\"M17.41 7.96l-1.37-1.37c-.4-.4-.92-.59-1.43-.59-.52 0-1.04.2-1.43.59L10.3 9.45l-7.72 7.72c-.78.78-.78 2.05 0 2.83L4 21.41c.39.39.9.59 1.41.59.51 0 1.02-.2 1.41-.59l7.78-7.78 2.81-2.81c.8-.78.8-2.07 0-2.86zM5.41 20L4 18.59l7.72-7.72 1.47 1.35L5.41 20z\"/>\n",
              "  </svg>\n",
              "      </button>\n",
              "      \n",
              "  <style>\n",
              "    .colab-df-container {\n",
              "      display:flex;\n",
              "      flex-wrap:wrap;\n",
              "      gap: 12px;\n",
              "    }\n",
              "\n",
              "    .colab-df-convert {\n",
              "      background-color: #E8F0FE;\n",
              "      border: none;\n",
              "      border-radius: 50%;\n",
              "      cursor: pointer;\n",
              "      display: none;\n",
              "      fill: #1967D2;\n",
              "      height: 32px;\n",
              "      padding: 0 0 0 0;\n",
              "      width: 32px;\n",
              "    }\n",
              "\n",
              "    .colab-df-convert:hover {\n",
              "      background-color: #E2EBFA;\n",
              "      box-shadow: 0px 1px 2px rgba(60, 64, 67, 0.3), 0px 1px 3px 1px rgba(60, 64, 67, 0.15);\n",
              "      fill: #174EA6;\n",
              "    }\n",
              "\n",
              "    [theme=dark] .colab-df-convert {\n",
              "      background-color: #3B4455;\n",
              "      fill: #D2E3FC;\n",
              "    }\n",
              "\n",
              "    [theme=dark] .colab-df-convert:hover {\n",
              "      background-color: #434B5C;\n",
              "      box-shadow: 0px 1px 3px 1px rgba(0, 0, 0, 0.15);\n",
              "      filter: drop-shadow(0px 1px 2px rgba(0, 0, 0, 0.3));\n",
              "      fill: #FFFFFF;\n",
              "    }\n",
              "  </style>\n",
              "\n",
              "      <script>\n",
              "        const buttonEl =\n",
              "          document.querySelector('#df-f550a14c-c3ad-4ce2-8805-249c40cde4b7 button.colab-df-convert');\n",
              "        buttonEl.style.display =\n",
              "          google.colab.kernel.accessAllowed ? 'block' : 'none';\n",
              "\n",
              "        async function convertToInteractive(key) {\n",
              "          const element = document.querySelector('#df-f550a14c-c3ad-4ce2-8805-249c40cde4b7');\n",
              "          const dataTable =\n",
              "            await google.colab.kernel.invokeFunction('convertToInteractive',\n",
              "                                                     [key], {});\n",
              "          if (!dataTable) return;\n",
              "\n",
              "          const docLinkHtml = 'Like what you see? Visit the ' +\n",
              "            '<a target=\"_blank\" href=https://colab.research.google.com/notebooks/data_table.ipynb>data table notebook</a>'\n",
              "            + ' to learn more about interactive tables.';\n",
              "          element.innerHTML = '';\n",
              "          dataTable['output_type'] = 'display_data';\n",
              "          await google.colab.output.renderOutput(dataTable, element);\n",
              "          const docLink = document.createElement('div');\n",
              "          docLink.innerHTML = docLinkHtml;\n",
              "          element.appendChild(docLink);\n",
              "        }\n",
              "      </script>\n",
              "    </div>\n",
              "  </div>\n",
              "  "
            ]
          },
          "metadata": {},
          "execution_count": 7
        }
      ],
      "source": [
        "df.head()"
      ]
    },
    {
      "cell_type": "code",
      "execution_count": 9,
      "id": "17294ce1",
      "metadata": {
        "colab": {
          "base_uri": "https://localhost:8080/"
        },
        "id": "17294ce1",
        "outputId": "3bb727e6-68c5-49b4-a0dc-df45802ed73c"
      },
      "outputs": [
        {
          "output_type": "execute_result",
          "data": {
            "text/plain": [
              "23458"
            ]
          },
          "metadata": {},
          "execution_count": 9
        }
      ],
      "source": [
        "# total number of reviews\n",
        "len(df['Reviews'])"
      ]
    },
    {
      "cell_type": "code",
      "execution_count": 10,
      "id": "bc85b219",
      "metadata": {
        "id": "bc85b219"
      },
      "outputs": [],
      "source": [
        "# Checking the number of words in each reviews\n",
        "df['word_count'] = df['Reviews'].apply(lambda x: len(x.split()))"
      ]
    },
    {
      "cell_type": "code",
      "execution_count": 11,
      "id": "93f3f159",
      "metadata": {
        "colab": {
          "base_uri": "https://localhost:8080/",
          "height": 206
        },
        "id": "93f3f159",
        "outputId": "59246a49-4bbd-4df3-8c61-ba8150a8ee55"
      },
      "outputs": [
        {
          "output_type": "execute_result",
          "data": {
            "text/plain": [
              "   S/N                                            Reviews  word_count\n",
              "0    1  Knowing this restaurant does not have Gluten F...         159\n",
              "1    2  Food was great but appetizers arrived right be...           9\n",
              "2    3  We did an early dinner and the service was sup...          21\n",
              "3    4  The worst and cheapest meat cut I have ever ta...          47\n",
              "4    5  It was such a great experience! Enjoyed visiti...          15"
            ],
            "text/html": [
              "\n",
              "  <div id=\"df-738a2a77-a62a-4393-bd98-e0a993c46640\">\n",
              "    <div class=\"colab-df-container\">\n",
              "      <div>\n",
              "<style scoped>\n",
              "    .dataframe tbody tr th:only-of-type {\n",
              "        vertical-align: middle;\n",
              "    }\n",
              "\n",
              "    .dataframe tbody tr th {\n",
              "        vertical-align: top;\n",
              "    }\n",
              "\n",
              "    .dataframe thead th {\n",
              "        text-align: right;\n",
              "    }\n",
              "</style>\n",
              "<table border=\"1\" class=\"dataframe\">\n",
              "  <thead>\n",
              "    <tr style=\"text-align: right;\">\n",
              "      <th></th>\n",
              "      <th>S/N</th>\n",
              "      <th>Reviews</th>\n",
              "      <th>word_count</th>\n",
              "    </tr>\n",
              "  </thead>\n",
              "  <tbody>\n",
              "    <tr>\n",
              "      <th>0</th>\n",
              "      <td>1</td>\n",
              "      <td>Knowing this restaurant does not have Gluten F...</td>\n",
              "      <td>159</td>\n",
              "    </tr>\n",
              "    <tr>\n",
              "      <th>1</th>\n",
              "      <td>2</td>\n",
              "      <td>Food was great but appetizers arrived right be...</td>\n",
              "      <td>9</td>\n",
              "    </tr>\n",
              "    <tr>\n",
              "      <th>2</th>\n",
              "      <td>3</td>\n",
              "      <td>We did an early dinner and the service was sup...</td>\n",
              "      <td>21</td>\n",
              "    </tr>\n",
              "    <tr>\n",
              "      <th>3</th>\n",
              "      <td>4</td>\n",
              "      <td>The worst and cheapest meat cut I have ever ta...</td>\n",
              "      <td>47</td>\n",
              "    </tr>\n",
              "    <tr>\n",
              "      <th>4</th>\n",
              "      <td>5</td>\n",
              "      <td>It was such a great experience! Enjoyed visiti...</td>\n",
              "      <td>15</td>\n",
              "    </tr>\n",
              "  </tbody>\n",
              "</table>\n",
              "</div>\n",
              "      <button class=\"colab-df-convert\" onclick=\"convertToInteractive('df-738a2a77-a62a-4393-bd98-e0a993c46640')\"\n",
              "              title=\"Convert this dataframe to an interactive table.\"\n",
              "              style=\"display:none;\">\n",
              "        \n",
              "  <svg xmlns=\"http://www.w3.org/2000/svg\" height=\"24px\"viewBox=\"0 0 24 24\"\n",
              "       width=\"24px\">\n",
              "    <path d=\"M0 0h24v24H0V0z\" fill=\"none\"/>\n",
              "    <path d=\"M18.56 5.44l.94 2.06.94-2.06 2.06-.94-2.06-.94-.94-2.06-.94 2.06-2.06.94zm-11 1L8.5 8.5l.94-2.06 2.06-.94-2.06-.94L8.5 2.5l-.94 2.06-2.06.94zm10 10l.94 2.06.94-2.06 2.06-.94-2.06-.94-.94-2.06-.94 2.06-2.06.94z\"/><path d=\"M17.41 7.96l-1.37-1.37c-.4-.4-.92-.59-1.43-.59-.52 0-1.04.2-1.43.59L10.3 9.45l-7.72 7.72c-.78.78-.78 2.05 0 2.83L4 21.41c.39.39.9.59 1.41.59.51 0 1.02-.2 1.41-.59l7.78-7.78 2.81-2.81c.8-.78.8-2.07 0-2.86zM5.41 20L4 18.59l7.72-7.72 1.47 1.35L5.41 20z\"/>\n",
              "  </svg>\n",
              "      </button>\n",
              "      \n",
              "  <style>\n",
              "    .colab-df-container {\n",
              "      display:flex;\n",
              "      flex-wrap:wrap;\n",
              "      gap: 12px;\n",
              "    }\n",
              "\n",
              "    .colab-df-convert {\n",
              "      background-color: #E8F0FE;\n",
              "      border: none;\n",
              "      border-radius: 50%;\n",
              "      cursor: pointer;\n",
              "      display: none;\n",
              "      fill: #1967D2;\n",
              "      height: 32px;\n",
              "      padding: 0 0 0 0;\n",
              "      width: 32px;\n",
              "    }\n",
              "\n",
              "    .colab-df-convert:hover {\n",
              "      background-color: #E2EBFA;\n",
              "      box-shadow: 0px 1px 2px rgba(60, 64, 67, 0.3), 0px 1px 3px 1px rgba(60, 64, 67, 0.15);\n",
              "      fill: #174EA6;\n",
              "    }\n",
              "\n",
              "    [theme=dark] .colab-df-convert {\n",
              "      background-color: #3B4455;\n",
              "      fill: #D2E3FC;\n",
              "    }\n",
              "\n",
              "    [theme=dark] .colab-df-convert:hover {\n",
              "      background-color: #434B5C;\n",
              "      box-shadow: 0px 1px 3px 1px rgba(0, 0, 0, 0.15);\n",
              "      filter: drop-shadow(0px 1px 2px rgba(0, 0, 0, 0.3));\n",
              "      fill: #FFFFFF;\n",
              "    }\n",
              "  </style>\n",
              "\n",
              "      <script>\n",
              "        const buttonEl =\n",
              "          document.querySelector('#df-738a2a77-a62a-4393-bd98-e0a993c46640 button.colab-df-convert');\n",
              "        buttonEl.style.display =\n",
              "          google.colab.kernel.accessAllowed ? 'block' : 'none';\n",
              "\n",
              "        async function convertToInteractive(key) {\n",
              "          const element = document.querySelector('#df-738a2a77-a62a-4393-bd98-e0a993c46640');\n",
              "          const dataTable =\n",
              "            await google.colab.kernel.invokeFunction('convertToInteractive',\n",
              "                                                     [key], {});\n",
              "          if (!dataTable) return;\n",
              "\n",
              "          const docLinkHtml = 'Like what you see? Visit the ' +\n",
              "            '<a target=\"_blank\" href=https://colab.research.google.com/notebooks/data_table.ipynb>data table notebook</a>'\n",
              "            + ' to learn more about interactive tables.';\n",
              "          element.innerHTML = '';\n",
              "          dataTable['output_type'] = 'display_data';\n",
              "          await google.colab.output.renderOutput(dataTable, element);\n",
              "          const docLink = document.createElement('div');\n",
              "          docLink.innerHTML = docLinkHtml;\n",
              "          element.appendChild(docLink);\n",
              "        }\n",
              "      </script>\n",
              "    </div>\n",
              "  </div>\n",
              "  "
            ]
          },
          "metadata": {},
          "execution_count": 11
        }
      ],
      "source": [
        "df.head()"
      ]
    },
    {
      "cell_type": "code",
      "execution_count": 12,
      "id": "5be144de",
      "metadata": {
        "id": "5be144de"
      },
      "outputs": [],
      "source": [
        "# Checking the number of characters in each reviews\n",
        "df['char_count'] = df['Reviews'].apply(lambda x: len(x))"
      ]
    },
    {
      "cell_type": "code",
      "execution_count": 13,
      "id": "fd597f84",
      "metadata": {
        "id": "fd597f84"
      },
      "outputs": [],
      "source": [
        "# Creating a function to find the average number of words in a review\n",
        "def avg_word(review):\n",
        "    words = review.split()\n",
        "    return (sum(len(word) for word in words) / len(words))"
      ]
    },
    {
      "cell_type": "code",
      "execution_count": 14,
      "id": "aae718d6",
      "metadata": {
        "id": "aae718d6"
      },
      "outputs": [],
      "source": [
        "df['avg_word'] = df['Reviews'].apply(lambda x: avg_word(x))"
      ]
    },
    {
      "cell_type": "code",
      "execution_count": 15,
      "id": "1547a6b2",
      "metadata": {
        "colab": {
          "base_uri": "https://localhost:8080/"
        },
        "id": "1547a6b2",
        "outputId": "b0072d3b-8efd-49cf-8160-e914c445f015"
      },
      "outputs": [
        {
          "output_type": "stream",
          "name": "stdout",
          "text": [
            "[nltk_data] Downloading package stopwords to /root/nltk_data...\n",
            "[nltk_data]   Unzipping corpora/stopwords.zip.\n"
          ]
        }
      ],
      "source": [
        "# Import stopwords\n",
        "from nltk.corpus import stopwords\n",
        "# remove stopwords\n",
        "# pip install nltk\n",
        "import nltk\n",
        "nltk.download('stopwords')\n",
        "from nltk.corpus import stopwords\n",
        "\n",
        "# Stop Words: A stop word is a commonly used word (such as “the”, “a”, “an”, “in”) that a search engine\n",
        "# has been programmed to ignore, both when indexing entries for searching and when retrieving them \n",
        "# as the result of a search query."
      ]
    },
    {
      "cell_type": "code",
      "execution_count": 16,
      "id": "60bbdd65",
      "metadata": {
        "id": "60bbdd65"
      },
      "outputs": [],
      "source": [
        "stop_words = set(stopwords.words(\"english\"))"
      ]
    },
    {
      "cell_type": "code",
      "execution_count": 17,
      "id": "c3ae22e8",
      "metadata": {
        "id": "c3ae22e8"
      },
      "outputs": [],
      "source": [
        "df['stopword_coun'] = df['Reviews'].apply(lambda x: len([x for x in x.split() if x in stop_words]))"
      ]
    },
    {
      "cell_type": "code",
      "execution_count": 18,
      "id": "def10d02",
      "metadata": {
        "id": "def10d02"
      },
      "outputs": [],
      "source": [
        "df['stopword_rate'] = df['stopword_coun']/df['word_count']"
      ]
    },
    {
      "cell_type": "code",
      "execution_count": 19,
      "id": "53a9aac9",
      "metadata": {
        "colab": {
          "base_uri": "https://localhost:8080/",
          "height": 206
        },
        "id": "53a9aac9",
        "outputId": "7455de4d-a2ea-4e9d-db7c-747eae267ba5"
      },
      "outputs": [
        {
          "output_type": "execute_result",
          "data": {
            "text/plain": [
              "   S/N                                            Reviews  word_count  \\\n",
              "0    1  Knowing this restaurant does not have Gluten F...         159   \n",
              "1    2  Food was great but appetizers arrived right be...           9   \n",
              "2    3  We did an early dinner and the service was sup...          21   \n",
              "3    4  The worst and cheapest meat cut I have ever ta...          47   \n",
              "4    5  It was such a great experience! Enjoyed visiti...          15   \n",
              "\n",
              "   char_count  avg_word  stopword_coun  stopword_rate  \n",
              "0         848  4.339623             70       0.440252  \n",
              "1          58  5.555556              3       0.333333  \n",
              "2         126  5.047619              9       0.428571  \n",
              "3         242  4.170213             20       0.425532  \n",
              "4          93  5.266667              7       0.466667  "
            ],
            "text/html": [
              "\n",
              "  <div id=\"df-7a719ca0-85b3-4972-9f32-ca29469fdbb1\">\n",
              "    <div class=\"colab-df-container\">\n",
              "      <div>\n",
              "<style scoped>\n",
              "    .dataframe tbody tr th:only-of-type {\n",
              "        vertical-align: middle;\n",
              "    }\n",
              "\n",
              "    .dataframe tbody tr th {\n",
              "        vertical-align: top;\n",
              "    }\n",
              "\n",
              "    .dataframe thead th {\n",
              "        text-align: right;\n",
              "    }\n",
              "</style>\n",
              "<table border=\"1\" class=\"dataframe\">\n",
              "  <thead>\n",
              "    <tr style=\"text-align: right;\">\n",
              "      <th></th>\n",
              "      <th>S/N</th>\n",
              "      <th>Reviews</th>\n",
              "      <th>word_count</th>\n",
              "      <th>char_count</th>\n",
              "      <th>avg_word</th>\n",
              "      <th>stopword_coun</th>\n",
              "      <th>stopword_rate</th>\n",
              "    </tr>\n",
              "  </thead>\n",
              "  <tbody>\n",
              "    <tr>\n",
              "      <th>0</th>\n",
              "      <td>1</td>\n",
              "      <td>Knowing this restaurant does not have Gluten F...</td>\n",
              "      <td>159</td>\n",
              "      <td>848</td>\n",
              "      <td>4.339623</td>\n",
              "      <td>70</td>\n",
              "      <td>0.440252</td>\n",
              "    </tr>\n",
              "    <tr>\n",
              "      <th>1</th>\n",
              "      <td>2</td>\n",
              "      <td>Food was great but appetizers arrived right be...</td>\n",
              "      <td>9</td>\n",
              "      <td>58</td>\n",
              "      <td>5.555556</td>\n",
              "      <td>3</td>\n",
              "      <td>0.333333</td>\n",
              "    </tr>\n",
              "    <tr>\n",
              "      <th>2</th>\n",
              "      <td>3</td>\n",
              "      <td>We did an early dinner and the service was sup...</td>\n",
              "      <td>21</td>\n",
              "      <td>126</td>\n",
              "      <td>5.047619</td>\n",
              "      <td>9</td>\n",
              "      <td>0.428571</td>\n",
              "    </tr>\n",
              "    <tr>\n",
              "      <th>3</th>\n",
              "      <td>4</td>\n",
              "      <td>The worst and cheapest meat cut I have ever ta...</td>\n",
              "      <td>47</td>\n",
              "      <td>242</td>\n",
              "      <td>4.170213</td>\n",
              "      <td>20</td>\n",
              "      <td>0.425532</td>\n",
              "    </tr>\n",
              "    <tr>\n",
              "      <th>4</th>\n",
              "      <td>5</td>\n",
              "      <td>It was such a great experience! Enjoyed visiti...</td>\n",
              "      <td>15</td>\n",
              "      <td>93</td>\n",
              "      <td>5.266667</td>\n",
              "      <td>7</td>\n",
              "      <td>0.466667</td>\n",
              "    </tr>\n",
              "  </tbody>\n",
              "</table>\n",
              "</div>\n",
              "      <button class=\"colab-df-convert\" onclick=\"convertToInteractive('df-7a719ca0-85b3-4972-9f32-ca29469fdbb1')\"\n",
              "              title=\"Convert this dataframe to an interactive table.\"\n",
              "              style=\"display:none;\">\n",
              "        \n",
              "  <svg xmlns=\"http://www.w3.org/2000/svg\" height=\"24px\"viewBox=\"0 0 24 24\"\n",
              "       width=\"24px\">\n",
              "    <path d=\"M0 0h24v24H0V0z\" fill=\"none\"/>\n",
              "    <path d=\"M18.56 5.44l.94 2.06.94-2.06 2.06-.94-2.06-.94-.94-2.06-.94 2.06-2.06.94zm-11 1L8.5 8.5l.94-2.06 2.06-.94-2.06-.94L8.5 2.5l-.94 2.06-2.06.94zm10 10l.94 2.06.94-2.06 2.06-.94-2.06-.94-.94-2.06-.94 2.06-2.06.94z\"/><path d=\"M17.41 7.96l-1.37-1.37c-.4-.4-.92-.59-1.43-.59-.52 0-1.04.2-1.43.59L10.3 9.45l-7.72 7.72c-.78.78-.78 2.05 0 2.83L4 21.41c.39.39.9.59 1.41.59.51 0 1.02-.2 1.41-.59l7.78-7.78 2.81-2.81c.8-.78.8-2.07 0-2.86zM5.41 20L4 18.59l7.72-7.72 1.47 1.35L5.41 20z\"/>\n",
              "  </svg>\n",
              "      </button>\n",
              "      \n",
              "  <style>\n",
              "    .colab-df-container {\n",
              "      display:flex;\n",
              "      flex-wrap:wrap;\n",
              "      gap: 12px;\n",
              "    }\n",
              "\n",
              "    .colab-df-convert {\n",
              "      background-color: #E8F0FE;\n",
              "      border: none;\n",
              "      border-radius: 50%;\n",
              "      cursor: pointer;\n",
              "      display: none;\n",
              "      fill: #1967D2;\n",
              "      height: 32px;\n",
              "      padding: 0 0 0 0;\n",
              "      width: 32px;\n",
              "    }\n",
              "\n",
              "    .colab-df-convert:hover {\n",
              "      background-color: #E2EBFA;\n",
              "      box-shadow: 0px 1px 2px rgba(60, 64, 67, 0.3), 0px 1px 3px 1px rgba(60, 64, 67, 0.15);\n",
              "      fill: #174EA6;\n",
              "    }\n",
              "\n",
              "    [theme=dark] .colab-df-convert {\n",
              "      background-color: #3B4455;\n",
              "      fill: #D2E3FC;\n",
              "    }\n",
              "\n",
              "    [theme=dark] .colab-df-convert:hover {\n",
              "      background-color: #434B5C;\n",
              "      box-shadow: 0px 1px 3px 1px rgba(0, 0, 0, 0.15);\n",
              "      filter: drop-shadow(0px 1px 2px rgba(0, 0, 0, 0.3));\n",
              "      fill: #FFFFFF;\n",
              "    }\n",
              "  </style>\n",
              "\n",
              "      <script>\n",
              "        const buttonEl =\n",
              "          document.querySelector('#df-7a719ca0-85b3-4972-9f32-ca29469fdbb1 button.colab-df-convert');\n",
              "        buttonEl.style.display =\n",
              "          google.colab.kernel.accessAllowed ? 'block' : 'none';\n",
              "\n",
              "        async function convertToInteractive(key) {\n",
              "          const element = document.querySelector('#df-7a719ca0-85b3-4972-9f32-ca29469fdbb1');\n",
              "          const dataTable =\n",
              "            await google.colab.kernel.invokeFunction('convertToInteractive',\n",
              "                                                     [key], {});\n",
              "          if (!dataTable) return;\n",
              "\n",
              "          const docLinkHtml = 'Like what you see? Visit the ' +\n",
              "            '<a target=\"_blank\" href=https://colab.research.google.com/notebooks/data_table.ipynb>data table notebook</a>'\n",
              "            + ' to learn more about interactive tables.';\n",
              "          element.innerHTML = '';\n",
              "          dataTable['output_type'] = 'display_data';\n",
              "          await google.colab.output.renderOutput(dataTable, element);\n",
              "          const docLink = document.createElement('div');\n",
              "          docLink.innerHTML = docLinkHtml;\n",
              "          element.appendChild(docLink);\n",
              "        }\n",
              "      </script>\n",
              "    </div>\n",
              "  </div>\n",
              "  "
            ]
          },
          "metadata": {},
          "execution_count": 19
        }
      ],
      "source": [
        "df.head()"
      ]
    },
    {
      "cell_type": "code",
      "execution_count": 20,
      "id": "0deb85b2",
      "metadata": {
        "colab": {
          "base_uri": "https://localhost:8080/",
          "height": 300
        },
        "id": "0deb85b2",
        "outputId": "0731cc6a-1155-4c2d-e712-b68627d89500"
      },
      "outputs": [
        {
          "output_type": "execute_result",
          "data": {
            "text/plain": [
              "                S/N    word_count    char_count      avg_word  stopword_coun  \\\n",
              "count  23458.000000  23458.000000  23458.000000  23458.000000   23458.000000   \n",
              "mean   11729.500000     45.744394    254.365803      4.818948      18.654532   \n",
              "std     6771.885643     49.581324    269.410989      1.255625      22.081367   \n",
              "min        1.000000      1.000000      6.000000      1.452381       0.000000   \n",
              "25%     5865.250000     14.000000     82.000000      4.336431       5.000000   \n",
              "50%    11729.500000     29.000000    164.000000      4.642857      11.000000   \n",
              "75%    17593.750000     59.000000    325.000000      5.062500      24.000000   \n",
              "max    23458.000000    403.000000   2000.000000     90.000000     208.000000   \n",
              "\n",
              "       stopword_rate  \n",
              "count   23458.000000  \n",
              "mean        0.360792  \n",
              "std         0.117794  \n",
              "min         0.000000  \n",
              "25%         0.312500  \n",
              "50%         0.384615  \n",
              "75%         0.438017  \n",
              "max         0.777778  "
            ],
            "text/html": [
              "\n",
              "  <div id=\"df-1c73accc-1b20-4e9e-af80-cf33c7b261aa\">\n",
              "    <div class=\"colab-df-container\">\n",
              "      <div>\n",
              "<style scoped>\n",
              "    .dataframe tbody tr th:only-of-type {\n",
              "        vertical-align: middle;\n",
              "    }\n",
              "\n",
              "    .dataframe tbody tr th {\n",
              "        vertical-align: top;\n",
              "    }\n",
              "\n",
              "    .dataframe thead th {\n",
              "        text-align: right;\n",
              "    }\n",
              "</style>\n",
              "<table border=\"1\" class=\"dataframe\">\n",
              "  <thead>\n",
              "    <tr style=\"text-align: right;\">\n",
              "      <th></th>\n",
              "      <th>S/N</th>\n",
              "      <th>word_count</th>\n",
              "      <th>char_count</th>\n",
              "      <th>avg_word</th>\n",
              "      <th>stopword_coun</th>\n",
              "      <th>stopword_rate</th>\n",
              "    </tr>\n",
              "  </thead>\n",
              "  <tbody>\n",
              "    <tr>\n",
              "      <th>count</th>\n",
              "      <td>23458.000000</td>\n",
              "      <td>23458.000000</td>\n",
              "      <td>23458.000000</td>\n",
              "      <td>23458.000000</td>\n",
              "      <td>23458.000000</td>\n",
              "      <td>23458.000000</td>\n",
              "    </tr>\n",
              "    <tr>\n",
              "      <th>mean</th>\n",
              "      <td>11729.500000</td>\n",
              "      <td>45.744394</td>\n",
              "      <td>254.365803</td>\n",
              "      <td>4.818948</td>\n",
              "      <td>18.654532</td>\n",
              "      <td>0.360792</td>\n",
              "    </tr>\n",
              "    <tr>\n",
              "      <th>std</th>\n",
              "      <td>6771.885643</td>\n",
              "      <td>49.581324</td>\n",
              "      <td>269.410989</td>\n",
              "      <td>1.255625</td>\n",
              "      <td>22.081367</td>\n",
              "      <td>0.117794</td>\n",
              "    </tr>\n",
              "    <tr>\n",
              "      <th>min</th>\n",
              "      <td>1.000000</td>\n",
              "      <td>1.000000</td>\n",
              "      <td>6.000000</td>\n",
              "      <td>1.452381</td>\n",
              "      <td>0.000000</td>\n",
              "      <td>0.000000</td>\n",
              "    </tr>\n",
              "    <tr>\n",
              "      <th>25%</th>\n",
              "      <td>5865.250000</td>\n",
              "      <td>14.000000</td>\n",
              "      <td>82.000000</td>\n",
              "      <td>4.336431</td>\n",
              "      <td>5.000000</td>\n",
              "      <td>0.312500</td>\n",
              "    </tr>\n",
              "    <tr>\n",
              "      <th>50%</th>\n",
              "      <td>11729.500000</td>\n",
              "      <td>29.000000</td>\n",
              "      <td>164.000000</td>\n",
              "      <td>4.642857</td>\n",
              "      <td>11.000000</td>\n",
              "      <td>0.384615</td>\n",
              "    </tr>\n",
              "    <tr>\n",
              "      <th>75%</th>\n",
              "      <td>17593.750000</td>\n",
              "      <td>59.000000</td>\n",
              "      <td>325.000000</td>\n",
              "      <td>5.062500</td>\n",
              "      <td>24.000000</td>\n",
              "      <td>0.438017</td>\n",
              "    </tr>\n",
              "    <tr>\n",
              "      <th>max</th>\n",
              "      <td>23458.000000</td>\n",
              "      <td>403.000000</td>\n",
              "      <td>2000.000000</td>\n",
              "      <td>90.000000</td>\n",
              "      <td>208.000000</td>\n",
              "      <td>0.777778</td>\n",
              "    </tr>\n",
              "  </tbody>\n",
              "</table>\n",
              "</div>\n",
              "      <button class=\"colab-df-convert\" onclick=\"convertToInteractive('df-1c73accc-1b20-4e9e-af80-cf33c7b261aa')\"\n",
              "              title=\"Convert this dataframe to an interactive table.\"\n",
              "              style=\"display:none;\">\n",
              "        \n",
              "  <svg xmlns=\"http://www.w3.org/2000/svg\" height=\"24px\"viewBox=\"0 0 24 24\"\n",
              "       width=\"24px\">\n",
              "    <path d=\"M0 0h24v24H0V0z\" fill=\"none\"/>\n",
              "    <path d=\"M18.56 5.44l.94 2.06.94-2.06 2.06-.94-2.06-.94-.94-2.06-.94 2.06-2.06.94zm-11 1L8.5 8.5l.94-2.06 2.06-.94-2.06-.94L8.5 2.5l-.94 2.06-2.06.94zm10 10l.94 2.06.94-2.06 2.06-.94-2.06-.94-.94-2.06-.94 2.06-2.06.94z\"/><path d=\"M17.41 7.96l-1.37-1.37c-.4-.4-.92-.59-1.43-.59-.52 0-1.04.2-1.43.59L10.3 9.45l-7.72 7.72c-.78.78-.78 2.05 0 2.83L4 21.41c.39.39.9.59 1.41.59.51 0 1.02-.2 1.41-.59l7.78-7.78 2.81-2.81c.8-.78.8-2.07 0-2.86zM5.41 20L4 18.59l7.72-7.72 1.47 1.35L5.41 20z\"/>\n",
              "  </svg>\n",
              "      </button>\n",
              "      \n",
              "  <style>\n",
              "    .colab-df-container {\n",
              "      display:flex;\n",
              "      flex-wrap:wrap;\n",
              "      gap: 12px;\n",
              "    }\n",
              "\n",
              "    .colab-df-convert {\n",
              "      background-color: #E8F0FE;\n",
              "      border: none;\n",
              "      border-radius: 50%;\n",
              "      cursor: pointer;\n",
              "      display: none;\n",
              "      fill: #1967D2;\n",
              "      height: 32px;\n",
              "      padding: 0 0 0 0;\n",
              "      width: 32px;\n",
              "    }\n",
              "\n",
              "    .colab-df-convert:hover {\n",
              "      background-color: #E2EBFA;\n",
              "      box-shadow: 0px 1px 2px rgba(60, 64, 67, 0.3), 0px 1px 3px 1px rgba(60, 64, 67, 0.15);\n",
              "      fill: #174EA6;\n",
              "    }\n",
              "\n",
              "    [theme=dark] .colab-df-convert {\n",
              "      background-color: #3B4455;\n",
              "      fill: #D2E3FC;\n",
              "    }\n",
              "\n",
              "    [theme=dark] .colab-df-convert:hover {\n",
              "      background-color: #434B5C;\n",
              "      box-shadow: 0px 1px 3px 1px rgba(0, 0, 0, 0.15);\n",
              "      filter: drop-shadow(0px 1px 2px rgba(0, 0, 0, 0.3));\n",
              "      fill: #FFFFFF;\n",
              "    }\n",
              "  </style>\n",
              "\n",
              "      <script>\n",
              "        const buttonEl =\n",
              "          document.querySelector('#df-1c73accc-1b20-4e9e-af80-cf33c7b261aa button.colab-df-convert');\n",
              "        buttonEl.style.display =\n",
              "          google.colab.kernel.accessAllowed ? 'block' : 'none';\n",
              "\n",
              "        async function convertToInteractive(key) {\n",
              "          const element = document.querySelector('#df-1c73accc-1b20-4e9e-af80-cf33c7b261aa');\n",
              "          const dataTable =\n",
              "            await google.colab.kernel.invokeFunction('convertToInteractive',\n",
              "                                                     [key], {});\n",
              "          if (!dataTable) return;\n",
              "\n",
              "          const docLinkHtml = 'Like what you see? Visit the ' +\n",
              "            '<a target=\"_blank\" href=https://colab.research.google.com/notebooks/data_table.ipynb>data table notebook</a>'\n",
              "            + ' to learn more about interactive tables.';\n",
              "          element.innerHTML = '';\n",
              "          dataTable['output_type'] = 'display_data';\n",
              "          await google.colab.output.renderOutput(dataTable, element);\n",
              "          const docLink = document.createElement('div');\n",
              "          docLink.innerHTML = docLinkHtml;\n",
              "          element.appendChild(docLink);\n",
              "        }\n",
              "      </script>\n",
              "    </div>\n",
              "  </div>\n",
              "  "
            ]
          },
          "metadata": {},
          "execution_count": 20
        }
      ],
      "source": [
        "df.describe()"
      ]
    },
    {
      "cell_type": "code",
      "execution_count": 21,
      "id": "1dba6333",
      "metadata": {
        "colab": {
          "base_uri": "https://localhost:8080/",
          "height": 279
        },
        "id": "1dba6333",
        "outputId": "f5a242ab-ad79-4e29-820b-028aed04e2c5"
      },
      "outputs": [
        {
          "output_type": "display_data",
          "data": {
            "text/plain": [
              "<Figure size 432x288 with 1 Axes>"
            ],
            "image/png": "[encoded data removed]"
          },
          "metadata": {
            "needs_background": "light"
          }
        }
      ],
      "source": [
        "import matplotlib.pyplot as plt\n",
        "\n",
        "Sentiment_count=df.groupby('word_count').count()\n",
        "positions = (1,15)\n",
        "df['word_count'].value_counts().plot(kind='bar',color='Green')\n",
        "plt.xlabel('Length of each sentence')\n",
        "plt.ylabel('Count of Words')\n",
        "plt.xticks(rotation =0)\n",
        "plt.show()"
      ]
    },
    {
      "cell_type": "markdown",
      "id": "7cc98362",
      "metadata": {
        "id": "7cc98362"
      },
      "source": [
        "\n",
        "# Removing the Outliers"
      ]
    },
    {
      "cell_type": "code",
      "execution_count": 22,
      "id": "096f5bb2",
      "metadata": {
        "colab": {
          "base_uri": "https://localhost:8080/"
        },
        "id": "096f5bb2",
        "outputId": "4acaa0f6-e9c8-4f06-8fe8-f233c9c48a36"
      },
      "outputs": [
        {
          "output_type": "execute_result",
          "data": {
            "text/plain": [
              "(20923, 7)"
            ]
          },
          "metadata": {},
          "execution_count": 22
        }
      ],
      "source": [
        "df = df[(df.word_count < 100)]\n",
        "df.shape"
      ]
    },
    {
      "cell_type": "code",
      "execution_count": 23,
      "id": "b10476a5",
      "metadata": {
        "colab": {
          "base_uri": "https://localhost:8080/"
        },
        "id": "b10476a5",
        "outputId": "6d3c8ef1-fc1b-46cc-9278-5b4f218c71d1"
      },
      "outputs": [
        {
          "output_type": "execute_result",
          "data": {
            "text/plain": [
              "(18873, 7)"
            ]
          },
          "metadata": {},
          "execution_count": 23
        }
      ],
      "source": [
        "# Removing the rows with more stop words.\n",
        "df = df[(df.stopword_coun < 30)]\n",
        "df.shape"
      ]
    },
    {
      "cell_type": "markdown",
      "id": "b7397a7c",
      "metadata": {
        "id": "b7397a7c"
      },
      "source": [
        "# Cleaning the data"
      ]
    },
    {
      "cell_type": "code",
      "execution_count": 24,
      "id": "7c0c8dfe",
      "metadata": {
        "id": "7c0c8dfe"
      },
      "outputs": [],
      "source": [
        "# Lower case all words\n",
        "df['review_lower'] = df['Reviews'].apply(lambda x: \" \".join(x.lower() for x in x.split()))"
      ]
    },
    {
      "cell_type": "code",
      "execution_count": 25,
      "id": "db2212a5",
      "metadata": {
        "colab": {
          "base_uri": "https://localhost:8080/"
        },
        "id": "db2212a5",
        "outputId": "e3ae4293-02d1-40d1-e5c6-ccf2025e901c"
      },
      "outputs": [
        {
          "output_type": "stream",
          "name": "stderr",
          "text": [
            "/usr/local/lib/python3.7/dist-packages/ipykernel_launcher.py:2: FutureWarning: The default value of regex will change from True to False in a future version.\n",
            "  \n"
          ]
        }
      ],
      "source": [
        "# Remove Punctuation\n",
        "df['review_nopunc'] = df['review_lower'].str.replace('[^\\w\\s]', '')"
      ]
    },
    {
      "cell_type": "code",
      "execution_count": 26,
      "id": "e04b14b2",
      "metadata": {
        "id": "e04b14b2"
      },
      "outputs": [],
      "source": [
        "# Remove Stopwords since they add no sentiment meaning to the sentence\n",
        "df['review_nopunc_nostop'] = df['review_nopunc'].apply(lambda x: \" \".join(x for x in x.split() if x not in stop_words))"
      ]
    },
    {
      "cell_type": "code",
      "execution_count": 27,
      "id": "d3b9f765",
      "metadata": {
        "colab": {
          "base_uri": "https://localhost:8080/"
        },
        "id": "d3b9f765",
        "outputId": "45b0aa5d-88d8-4c5c-d589-cd6914122e2b"
      },
      "outputs": [
        {
          "output_type": "execute_result",
          "data": {
            "text/plain": [
              "food           11342\n",
              "great           7428\n",
              "service         6209\n",
              "good            4783\n",
              "time            2802\n",
              "brunch          2406\n",
              "excellent       2182\n",
              "delicious       2027\n",
              "restaurant      1947\n",
              "back            1853\n",
              "reservation     1844\n",
              "server          1804\n",
              "farmers         1786\n",
              "place           1779\n",
              "experience      1752\n",
              "founding        1743\n",
              "amazing         1692\n",
              "always          1684\n",
              "wait            1593\n",
              "menu            1506\n",
              "would           1461\n",
              "us              1434\n",
              "table           1374\n",
              "go              1245\n",
              "chicken         1205\n",
              "definitely      1156\n",
              "drinks          1153\n",
              "meal            1097\n",
              "staff           1097\n",
              "one             1086\n",
              "dc              1067\n",
              "seated          1060\n",
              "really          1051\n",
              "get             1042\n",
              "everything      1033\n",
              "nice            1023\n",
              "dinner          1022\n",
              "made            1014\n",
              "waiter          1010\n",
              "recommend       1003\n",
              "best             983\n",
              "love             976\n",
              "minutes          943\n",
              "like             920\n",
              "wonderful        910\n",
              "well             906\n",
              "even             889\n",
              "buffet           871\n",
              "friendly         841\n",
              "enjoyed          826\n",
              "dtype: int64"
            ]
          },
          "metadata": {},
          "execution_count": 27
        }
      ],
      "source": [
        "# Return frequency of the words used\n",
        "freq= pd.Series(\" \".join(df['review_nopunc_nostop']).split()).value_counts()[:50]\n",
        "freq"
      ]
    },
    {
      "cell_type": "code",
      "execution_count": 28,
      "id": "c11fe1b6",
      "metadata": {
        "id": "c11fe1b6"
      },
      "outputs": [],
      "source": [
        "# Removing other redundant words from the reviews which doesn't contribute to the sentiment analysis.\n",
        "other_stopwords = ['get', 'us', 'see', 'use', 'said', 'asked', 'day', 'go','even', 'ive', 'right', 'left', 'always', 'would', 'told','one', 'also', 'ever', 'dc', 'take', 'let','back','took']"
      ]
    },
    {
      "cell_type": "code",
      "execution_count": 29,
      "id": "d1c5d5c4",
      "metadata": {
        "id": "d1c5d5c4"
      },
      "outputs": [],
      "source": [
        "df['review_nopunc_nostop_nocommon'] = df['review_nopunc_nostop'].apply(lambda x: \"\".join(\" \".join(x for x in x.split() if x not in other_stopwords)))"
      ]
    },
    {
      "cell_type": "code",
      "source": [
        "df.describe()"
      ],
      "metadata": {
        "colab": {
          "base_uri": "https://localhost:8080/",
          "height": 300
        },
        "id": "MVTzDDgYZ9N2",
        "outputId": "cc5f4f2f-ffd3-47b2-e731-2465d056cf19"
      },
      "id": "MVTzDDgYZ9N2",
      "execution_count": 30,
      "outputs": [
        {
          "output_type": "execute_result",
          "data": {
            "text/plain": [
              "                S/N    word_count    char_count      avg_word  stopword_coun  \\\n",
              "count  18873.000000  18873.000000  18873.000000  18873.000000    18873.00000   \n",
              "mean   11829.766386     26.675833    151.379378      4.908846       10.10417   \n",
              "std     6851.730009     18.171057    101.181747      1.378398        7.78187   \n",
              "min        2.000000      1.000000      6.000000      1.452381        0.00000   \n",
              "25%     5732.000000     12.000000     70.000000      4.379310        4.00000   \n",
              "50%    12141.000000     22.000000    127.000000      4.733333        8.00000   \n",
              "75%    17701.000000     38.000000    216.000000      5.200000       15.00000   \n",
              "max    23457.000000     97.000000    607.000000     90.000000       29.00000   \n",
              "\n",
              "       stopword_rate  \n",
              "count   18873.000000  \n",
              "mean        0.342797  \n",
              "std         0.122904  \n",
              "min         0.000000  \n",
              "25%         0.285714  \n",
              "50%         0.363636  \n",
              "75%         0.424242  \n",
              "max         0.777778  "
            ],
            "text/html": [
              "\n",
              "  <div id=\"df-8ca0bd4d-b0b5-42e2-9276-c088b482eb69\">\n",
              "    <div class=\"colab-df-container\">\n",
              "      <div>\n",
              "<style scoped>\n",
              "    .dataframe tbody tr th:only-of-type {\n",
              "        vertical-align: middle;\n",
              "    }\n",
              "\n",
              "    .dataframe tbody tr th {\n",
              "        vertical-align: top;\n",
              "    }\n",
              "\n",
              "    .dataframe thead th {\n",
              "        text-align: right;\n",
              "    }\n",
              "</style>\n",
              "<table border=\"1\" class=\"dataframe\">\n",
              "  <thead>\n",
              "    <tr style=\"text-align: right;\">\n",
              "      <th></th>\n",
              "      <th>S/N</th>\n",
              "      <th>word_count</th>\n",
              "      <th>char_count</th>\n",
              "      <th>avg_word</th>\n",
              "      <th>stopword_coun</th>\n",
              "      <th>stopword_rate</th>\n",
              "    </tr>\n",
              "  </thead>\n",
              "  <tbody>\n",
              "    <tr>\n",
              "      <th>count</th>\n",
              "      <td>18873.000000</td>\n",
              "      <td>18873.000000</td>\n",
              "      <td>18873.000000</td>\n",
              "      <td>18873.000000</td>\n",
              "      <td>18873.00000</td>\n",
              "      <td>18873.000000</td>\n",
              "    </tr>\n",
              "    <tr>\n",
              "      <th>mean</th>\n",
              "      <td>11829.766386</td>\n",
              "      <td>26.675833</td>\n",
              "      <td>151.379378</td>\n",
              "      <td>4.908846</td>\n",
              "      <td>10.10417</td>\n",
              "      <td>0.342797</td>\n",
              "    </tr>\n",
              "    <tr>\n",
              "      <th>std</th>\n",
              "      <td>6851.730009</td>\n",
              "      <td>18.171057</td>\n",
              "      <td>101.181747</td>\n",
              "      <td>1.378398</td>\n",
              "      <td>7.78187</td>\n",
              "      <td>0.122904</td>\n",
              "    </tr>\n",
              "    <tr>\n",
              "      <th>min</th>\n",
              "      <td>2.000000</td>\n",
              "      <td>1.000000</td>\n",
              "      <td>6.000000</td>\n",
              "      <td>1.452381</td>\n",
              "      <td>0.00000</td>\n",
              "      <td>0.000000</td>\n",
              "    </tr>\n",
              "    <tr>\n",
              "      <th>25%</th>\n",
              "      <td>5732.000000</td>\n",
              "      <td>12.000000</td>\n",
              "      <td>70.000000</td>\n",
              "      <td>4.379310</td>\n",
              "      <td>4.00000</td>\n",
              "      <td>0.285714</td>\n",
              "    </tr>\n",
              "    <tr>\n",
              "      <th>50%</th>\n",
              "      <td>12141.000000</td>\n",
              "      <td>22.000000</td>\n",
              "      <td>127.000000</td>\n",
              "      <td>4.733333</td>\n",
              "      <td>8.00000</td>\n",
              "      <td>0.363636</td>\n",
              "    </tr>\n",
              "    <tr>\n",
              "      <th>75%</th>\n",
              "      <td>17701.000000</td>\n",
              "      <td>38.000000</td>\n",
              "      <td>216.000000</td>\n",
              "      <td>5.200000</td>\n",
              "      <td>15.00000</td>\n",
              "      <td>0.424242</td>\n",
              "    </tr>\n",
              "    <tr>\n",
              "      <th>max</th>\n",
              "      <td>23457.000000</td>\n",
              "      <td>97.000000</td>\n",
              "      <td>607.000000</td>\n",
              "      <td>90.000000</td>\n",
              "      <td>29.00000</td>\n",
              "      <td>0.777778</td>\n",
              "    </tr>\n",
              "  </tbody>\n",
              "</table>\n",
              "</div>\n",
              "      <button class=\"colab-df-convert\" onclick=\"convertToInteractive('df-8ca0bd4d-b0b5-42e2-9276-c088b482eb69')\"\n",
              "              title=\"Convert this dataframe to an interactive table.\"\n",
              "              style=\"display:none;\">\n",
              "        \n",
              "  <svg xmlns=\"http://www.w3.org/2000/svg\" height=\"24px\"viewBox=\"0 0 24 24\"\n",
              "       width=\"24px\">\n",
              "    <path d=\"M0 0h24v24H0V0z\" fill=\"none\"/>\n",
              "    <path d=\"M18.56 5.44l.94 2.06.94-2.06 2.06-.94-2.06-.94-.94-2.06-.94 2.06-2.06.94zm-11 1L8.5 8.5l.94-2.06 2.06-.94-2.06-.94L8.5 2.5l-.94 2.06-2.06.94zm10 10l.94 2.06.94-2.06 2.06-.94-2.06-.94-.94-2.06-.94 2.06-2.06.94z\"/><path d=\"M17.41 7.96l-1.37-1.37c-.4-.4-.92-.59-1.43-.59-.52 0-1.04.2-1.43.59L10.3 9.45l-7.72 7.72c-.78.78-.78 2.05 0 2.83L4 21.41c.39.39.9.59 1.41.59.51 0 1.02-.2 1.41-.59l7.78-7.78 2.81-2.81c.8-.78.8-2.07 0-2.86zM5.41 20L4 18.59l7.72-7.72 1.47 1.35L5.41 20z\"/>\n",
              "  </svg>\n",
              "      </button>\n",
              "      \n",
              "  <style>\n",
              "    .colab-df-container {\n",
              "      display:flex;\n",
              "      flex-wrap:wrap;\n",
              "      gap: 12px;\n",
              "    }\n",
              "\n",
              "    .colab-df-convert {\n",
              "      background-color: #E8F0FE;\n",
              "      border: none;\n",
              "      border-radius: 50%;\n",
              "      cursor: pointer;\n",
              "      display: none;\n",
              "      fill: #1967D2;\n",
              "      height: 32px;\n",
              "      padding: 0 0 0 0;\n",
              "      width: 32px;\n",
              "    }\n",
              "\n",
              "    .colab-df-convert:hover {\n",
              "      background-color: #E2EBFA;\n",
              "      box-shadow: 0px 1px 2px rgba(60, 64, 67, 0.3), 0px 1px 3px 1px rgba(60, 64, 67, 0.15);\n",
              "      fill: #174EA6;\n",
              "    }\n",
              "\n",
              "    [theme=dark] .colab-df-convert {\n",
              "      background-color: #3B4455;\n",
              "      fill: #D2E3FC;\n",
              "    }\n",
              "\n",
              "    [theme=dark] .colab-df-convert:hover {\n",
              "      background-color: #434B5C;\n",
              "      box-shadow: 0px 1px 3px 1px rgba(0, 0, 0, 0.15);\n",
              "      filter: drop-shadow(0px 1px 2px rgba(0, 0, 0, 0.3));\n",
              "      fill: #FFFFFF;\n",
              "    }\n",
              "  </style>\n",
              "\n",
              "      <script>\n",
              "        const buttonEl =\n",
              "          document.querySelector('#df-8ca0bd4d-b0b5-42e2-9276-c088b482eb69 button.colab-df-convert');\n",
              "        buttonEl.style.display =\n",
              "          google.colab.kernel.accessAllowed ? 'block' : 'none';\n",
              "\n",
              "        async function convertToInteractive(key) {\n",
              "          const element = document.querySelector('#df-8ca0bd4d-b0b5-42e2-9276-c088b482eb69');\n",
              "          const dataTable =\n",
              "            await google.colab.kernel.invokeFunction('convertToInteractive',\n",
              "                                                     [key], {});\n",
              "          if (!dataTable) return;\n",
              "\n",
              "          const docLinkHtml = 'Like what you see? Visit the ' +\n",
              "            '<a target=\"_blank\" href=https://colab.research.google.com/notebooks/data_table.ipynb>data table notebook</a>'\n",
              "            + ' to learn more about interactive tables.';\n",
              "          element.innerHTML = '';\n",
              "          dataTable['output_type'] = 'display_data';\n",
              "          await google.colab.output.renderOutput(dataTable, element);\n",
              "          const docLink = document.createElement('div');\n",
              "          docLink.innerHTML = docLinkHtml;\n",
              "          element.appendChild(docLink);\n",
              "        }\n",
              "      </script>\n",
              "    </div>\n",
              "  </div>\n",
              "  "
            ]
          },
          "metadata": {},
          "execution_count": 30
        }
      ]
    },
    {
      "cell_type": "markdown",
      "id": "fce0e668",
      "metadata": {
        "id": "fce0e668"
      },
      "source": [
        "# Lemmatization"
      ]
    },
    {
      "cell_type": "code",
      "execution_count": 31,
      "id": "ab9be54c",
      "metadata": {
        "id": "ab9be54c"
      },
      "outputs": [],
      "source": [
        "# Lemmatize final review format\n",
        "df['cleaned_review'] = df['review_nopunc_nostop_nocommon'].apply(lambda x: \" \".join([Word(word).lemmatize() for word in x.split()]))"
      ]
    },
    {
      "cell_type": "code",
      "execution_count": 32,
      "id": "0d6da4e2",
      "metadata": {
        "colab": {
          "base_uri": "https://localhost:8080/",
          "height": 406
        },
        "id": "0d6da4e2",
        "outputId": "827cd8a5-6226-4e90-f8f5-303455d721c1"
      },
      "outputs": [
        {
          "output_type": "execute_result",
          "data": {
            "text/plain": [
              "   S/N                                            Reviews  word_count  \\\n",
              "1    2  Food was great but appetizers arrived right be...           9   \n",
              "2    3  We did an early dinner and the service was sup...          21   \n",
              "3    4  The worst and cheapest meat cut I have ever ta...          47   \n",
              "4    5  It was such a great experience! Enjoyed visiti...          15   \n",
              "5    6  I asked for a quieter table and that’s what we...          51   \n",
              "\n",
              "   char_count  avg_word  stopword_coun  stopword_rate  \\\n",
              "1          58  5.555556              3       0.333333   \n",
              "2         126  5.047619              9       0.428571   \n",
              "3         242  4.170213             20       0.425532   \n",
              "4          93  5.266667              7       0.466667   \n",
              "5         269  4.294118             23       0.450980   \n",
              "\n",
              "                                        review_lower  \\\n",
              "1  food was great but appetizers arrived right be...   \n",
              "2  we did an early dinner and the service was sup...   \n",
              "3  the worst and cheapest meat cut i have ever ta...   \n",
              "4  it was such a great experience! enjoyed visiti...   \n",
              "5  i asked for a quieter table and that’s what we...   \n",
              "\n",
              "                                       review_nopunc  \\\n",
              "1  food was great but appetizers arrived right be...   \n",
              "2  we did an early dinner and the service was sup...   \n",
              "3  the worst and cheapest meat cut i have ever ta...   \n",
              "4  it was such a great experience enjoyed visitin...   \n",
              "5  i asked for a quieter table and thats what we ...   \n",
              "\n",
              "                                review_nopunc_nostop  \\\n",
              "1        food great appetizers arrived right entrees   \n",
              "2  early dinner service superb especially accommo...   \n",
              "3  worst cheapest meat cut ever tasted two five e...   \n",
              "4  great experience enjoyed visiting friends food...   \n",
              "5  asked quieter table thats given food always go...   \n",
              "\n",
              "                       review_nopunc_nostop_nocommon  \\\n",
              "1              food great appetizers arrived entrees   \n",
              "2  early dinner service superb especially accommo...   \n",
              "3  worst cheapest meat cut tasted two five entrée...   \n",
              "4  great experience enjoyed visiting friends food...   \n",
              "5  quieter table thats given food good waiter obv...   \n",
              "\n",
              "                                      cleaned_review  \n",
              "1                food great appetizer arrived entree  \n",
              "2  early dinner service superb especially accommo...  \n",
              "3  worst cheapest meat cut tasted two five entrée...  \n",
              "4  great experience enjoyed visiting friend food ...  \n",
              "5  quieter table thats given food good waiter obv...  "
            ],
            "text/html": [
              "\n",
              "  <div id=\"df-ed5cacb8-79ea-4bb1-bbf5-daee946f1175\">\n",
              "    <div class=\"colab-df-container\">\n",
              "      <div>\n",
              "<style scoped>\n",
              "    .dataframe tbody tr th:only-of-type {\n",
              "        vertical-align: middle;\n",
              "    }\n",
              "\n",
              "    .dataframe tbody tr th {\n",
              "        vertical-align: top;\n",
              "    }\n",
              "\n",
              "    .dataframe thead th {\n",
              "        text-align: right;\n",
              "    }\n",
              "</style>\n",
              "<table border=\"1\" class=\"dataframe\">\n",
              "  <thead>\n",
              "    <tr style=\"text-align: right;\">\n",
              "      <th></th>\n",
              "      <th>S/N</th>\n",
              "      <th>Reviews</th>\n",
              "      <th>word_count</th>\n",
              "      <th>char_count</th>\n",
              "      <th>avg_word</th>\n",
              "      <th>stopword_coun</th>\n",
              "      <th>stopword_rate</th>\n",
              "      <th>review_lower</th>\n",
              "      <th>review_nopunc</th>\n",
              "      <th>review_nopunc_nostop</th>\n",
              "      <th>review_nopunc_nostop_nocommon</th>\n",
              "      <th>cleaned_review</th>\n",
              "    </tr>\n",
              "  </thead>\n",
              "  <tbody>\n",
              "    <tr>\n",
              "      <th>1</th>\n",
              "      <td>2</td>\n",
              "      <td>Food was great but appetizers arrived right be...</td>\n",
              "      <td>9</td>\n",
              "      <td>58</td>\n",
              "      <td>5.555556</td>\n",
              "      <td>3</td>\n",
              "      <td>0.333333</td>\n",
              "      <td>food was great but appetizers arrived right be...</td>\n",
              "      <td>food was great but appetizers arrived right be...</td>\n",
              "      <td>food great appetizers arrived right entrees</td>\n",
              "      <td>food great appetizers arrived entrees</td>\n",
              "      <td>food great appetizer arrived entree</td>\n",
              "    </tr>\n",
              "    <tr>\n",
              "      <th>2</th>\n",
              "      <td>3</td>\n",
              "      <td>We did an early dinner and the service was sup...</td>\n",
              "      <td>21</td>\n",
              "      <td>126</td>\n",
              "      <td>5.047619</td>\n",
              "      <td>9</td>\n",
              "      <td>0.428571</td>\n",
              "      <td>we did an early dinner and the service was sup...</td>\n",
              "      <td>we did an early dinner and the service was sup...</td>\n",
              "      <td>early dinner service superb especially accommo...</td>\n",
              "      <td>early dinner service superb especially accommo...</td>\n",
              "      <td>early dinner service superb especially accommo...</td>\n",
              "    </tr>\n",
              "    <tr>\n",
              "      <th>3</th>\n",
              "      <td>4</td>\n",
              "      <td>The worst and cheapest meat cut I have ever ta...</td>\n",
              "      <td>47</td>\n",
              "      <td>242</td>\n",
              "      <td>4.170213</td>\n",
              "      <td>20</td>\n",
              "      <td>0.425532</td>\n",
              "      <td>the worst and cheapest meat cut i have ever ta...</td>\n",
              "      <td>the worst and cheapest meat cut i have ever ta...</td>\n",
              "      <td>worst cheapest meat cut ever tasted two five e...</td>\n",
              "      <td>worst cheapest meat cut tasted two five entrée...</td>\n",
              "      <td>worst cheapest meat cut tasted two five entrée...</td>\n",
              "    </tr>\n",
              "    <tr>\n",
              "      <th>4</th>\n",
              "      <td>5</td>\n",
              "      <td>It was such a great experience! Enjoyed visiti...</td>\n",
              "      <td>15</td>\n",
              "      <td>93</td>\n",
              "      <td>5.266667</td>\n",
              "      <td>7</td>\n",
              "      <td>0.466667</td>\n",
              "      <td>it was such a great experience! enjoyed visiti...</td>\n",
              "      <td>it was such a great experience enjoyed visitin...</td>\n",
              "      <td>great experience enjoyed visiting friends food...</td>\n",
              "      <td>great experience enjoyed visiting friends food...</td>\n",
              "      <td>great experience enjoyed visiting friend food ...</td>\n",
              "    </tr>\n",
              "    <tr>\n",
              "      <th>5</th>\n",
              "      <td>6</td>\n",
              "      <td>I asked for a quieter table and that’s what we...</td>\n",
              "      <td>51</td>\n",
              "      <td>269</td>\n",
              "      <td>4.294118</td>\n",
              "      <td>23</td>\n",
              "      <td>0.450980</td>\n",
              "      <td>i asked for a quieter table and that’s what we...</td>\n",
              "      <td>i asked for a quieter table and thats what we ...</td>\n",
              "      <td>asked quieter table thats given food always go...</td>\n",
              "      <td>quieter table thats given food good waiter obv...</td>\n",
              "      <td>quieter table thats given food good waiter obv...</td>\n",
              "    </tr>\n",
              "  </tbody>\n",
              "</table>\n",
              "</div>\n",
              "      <button class=\"colab-df-convert\" onclick=\"convertToInteractive('df-ed5cacb8-79ea-4bb1-bbf5-daee946f1175')\"\n",
              "              title=\"Convert this dataframe to an interactive table.\"\n",
              "              style=\"display:none;\">\n",
              "        \n",
              "  <svg xmlns=\"http://www.w3.org/2000/svg\" height=\"24px\"viewBox=\"0 0 24 24\"\n",
              "       width=\"24px\">\n",
              "    <path d=\"M0 0h24v24H0V0z\" fill=\"none\"/>\n",
              "    <path d=\"M18.56 5.44l.94 2.06.94-2.06 2.06-.94-2.06-.94-.94-2.06-.94 2.06-2.06.94zm-11 1L8.5 8.5l.94-2.06 2.06-.94-2.06-.94L8.5 2.5l-.94 2.06-2.06.94zm10 10l.94 2.06.94-2.06 2.06-.94-2.06-.94-.94-2.06-.94 2.06-2.06.94z\"/><path d=\"M17.41 7.96l-1.37-1.37c-.4-.4-.92-.59-1.43-.59-.52 0-1.04.2-1.43.59L10.3 9.45l-7.72 7.72c-.78.78-.78 2.05 0 2.83L4 21.41c.39.39.9.59 1.41.59.51 0 1.02-.2 1.41-.59l7.78-7.78 2.81-2.81c.8-.78.8-2.07 0-2.86zM5.41 20L4 18.59l7.72-7.72 1.47 1.35L5.41 20z\"/>\n",
              "  </svg>\n",
              "      </button>\n",
              "      \n",
              "  <style>\n",
              "    .colab-df-container {\n",
              "      display:flex;\n",
              "      flex-wrap:wrap;\n",
              "      gap: 12px;\n",
              "    }\n",
              "\n",
              "    .colab-df-convert {\n",
              "      background-color: #E8F0FE;\n",
              "      border: none;\n",
              "      border-radius: 50%;\n",
              "      cursor: pointer;\n",
              "      display: none;\n",
              "      fill: #1967D2;\n",
              "      height: 32px;\n",
              "      padding: 0 0 0 0;\n",
              "      width: 32px;\n",
              "    }\n",
              "\n",
              "    .colab-df-convert:hover {\n",
              "      background-color: #E2EBFA;\n",
              "      box-shadow: 0px 1px 2px rgba(60, 64, 67, 0.3), 0px 1px 3px 1px rgba(60, 64, 67, 0.15);\n",
              "      fill: #174EA6;\n",
              "    }\n",
              "\n",
              "    [theme=dark] .colab-df-convert {\n",
              "      background-color: #3B4455;\n",
              "      fill: #D2E3FC;\n",
              "    }\n",
              "\n",
              "    [theme=dark] .colab-df-convert:hover {\n",
              "      background-color: #434B5C;\n",
              "      box-shadow: 0px 1px 3px 1px rgba(0, 0, 0, 0.15);\n",
              "      filter: drop-shadow(0px 1px 2px rgba(0, 0, 0, 0.3));\n",
              "      fill: #FFFFFF;\n",
              "    }\n",
              "  </style>\n",
              "\n",
              "      <script>\n",
              "        const buttonEl =\n",
              "          document.querySelector('#df-ed5cacb8-79ea-4bb1-bbf5-daee946f1175 button.colab-df-convert');\n",
              "        buttonEl.style.display =\n",
              "          google.colab.kernel.accessAllowed ? 'block' : 'none';\n",
              "\n",
              "        async function convertToInteractive(key) {\n",
              "          const element = document.querySelector('#df-ed5cacb8-79ea-4bb1-bbf5-daee946f1175');\n",
              "          const dataTable =\n",
              "            await google.colab.kernel.invokeFunction('convertToInteractive',\n",
              "                                                     [key], {});\n",
              "          if (!dataTable) return;\n",
              "\n",
              "          const docLinkHtml = 'Like what you see? Visit the ' +\n",
              "            '<a target=\"_blank\" href=https://colab.research.google.com/notebooks/data_table.ipynb>data table notebook</a>'\n",
              "            + ' to learn more about interactive tables.';\n",
              "          element.innerHTML = '';\n",
              "          dataTable['output_type'] = 'display_data';\n",
              "          await google.colab.output.renderOutput(dataTable, element);\n",
              "          const docLink = document.createElement('div');\n",
              "          docLink.innerHTML = docLinkHtml;\n",
              "          element.appendChild(docLink);\n",
              "        }\n",
              "      </script>\n",
              "    </div>\n",
              "  </div>\n",
              "  "
            ]
          },
          "metadata": {},
          "execution_count": 32
        }
      ],
      "source": [
        "df.head()"
      ]
    },
    {
      "cell_type": "markdown",
      "id": "5205a51a",
      "metadata": {
        "id": "5205a51a"
      },
      "source": [
        "# SentimenT Analysis"
      ]
    },
    {
      "cell_type": "code",
      "execution_count": 33,
      "id": "420b280c",
      "metadata": {
        "id": "420b280c"
      },
      "outputs": [],
      "source": [
        "from textblob import TextBlob\n",
        "df['polarity'] = df['cleaned_review'].apply(lambda x: TextBlob(x).sentiment[0])\n",
        "df['subjectivity'] = df['cleaned_review'].apply(lambda x: TextBlob(x).sentiment[1])"
      ]
    },
    {
      "cell_type": "code",
      "execution_count": 34,
      "id": "dfca1c39",
      "metadata": {
        "colab": {
          "base_uri": "https://localhost:8080/",
          "height": 423
        },
        "id": "dfca1c39",
        "outputId": "571e19d4-2c3a-4ca7-eaea-70e742c8d35c"
      },
      "outputs": [
        {
          "output_type": "execute_result",
          "data": {
            "text/plain": [
              "   S/N                                            Reviews  word_count  \\\n",
              "1    2  Food was great but appetizers arrived right be...           9   \n",
              "2    3  We did an early dinner and the service was sup...          21   \n",
              "3    4  The worst and cheapest meat cut I have ever ta...          47   \n",
              "4    5  It was such a great experience! Enjoyed visiti...          15   \n",
              "5    6  I asked for a quieter table and that’s what we...          51   \n",
              "\n",
              "   char_count  avg_word  stopword_coun  stopword_rate  \\\n",
              "1          58  5.555556              3       0.333333   \n",
              "2         126  5.047619              9       0.428571   \n",
              "3         242  4.170213             20       0.425532   \n",
              "4          93  5.266667              7       0.466667   \n",
              "5         269  4.294118             23       0.450980   \n",
              "\n",
              "                                        review_lower  \\\n",
              "1  food was great but appetizers arrived right be...   \n",
              "2  we did an early dinner and the service was sup...   \n",
              "3  the worst and cheapest meat cut i have ever ta...   \n",
              "4  it was such a great experience! enjoyed visiti...   \n",
              "5  i asked for a quieter table and that’s what we...   \n",
              "\n",
              "                                       review_nopunc  \\\n",
              "1  food was great but appetizers arrived right be...   \n",
              "2  we did an early dinner and the service was sup...   \n",
              "3  the worst and cheapest meat cut i have ever ta...   \n",
              "4  it was such a great experience enjoyed visitin...   \n",
              "5  i asked for a quieter table and thats what we ...   \n",
              "\n",
              "                                review_nopunc_nostop  \\\n",
              "1        food great appetizers arrived right entrees   \n",
              "2  early dinner service superb especially accommo...   \n",
              "3  worst cheapest meat cut ever tasted two five e...   \n",
              "4  great experience enjoyed visiting friends food...   \n",
              "5  asked quieter table thats given food always go...   \n",
              "\n",
              "                       review_nopunc_nostop_nocommon  \\\n",
              "1              food great appetizers arrived entrees   \n",
              "2  early dinner service superb especially accommo...   \n",
              "3  worst cheapest meat cut tasted two five entrée...   \n",
              "4  great experience enjoyed visiting friends food...   \n",
              "5  quieter table thats given food good waiter obv...   \n",
              "\n",
              "                                      cleaned_review  polarity  subjectivity  \n",
              "1                food great appetizer arrived entree  0.800000      0.750000  \n",
              "2  early dinner service superb especially accommo...  0.275000      0.700000  \n",
              "3  worst cheapest meat cut tasted two five entrée... -0.433333      0.488889  \n",
              "4  great experience enjoyed visiting friend food ...  0.655556      0.816667  \n",
              "5  quieter table thats given food good waiter obv...  0.468750      0.587500  "
            ],
            "text/html": [
              "\n",
              "  <div id=\"df-7cfacda3-5bbb-4e00-b6ec-b934bb0ec236\">\n",
              "    <div class=\"colab-df-container\">\n",
              "      <div>\n",
              "<style scoped>\n",
              "    .dataframe tbody tr th:only-of-type {\n",
              "        vertical-align: middle;\n",
              "    }\n",
              "\n",
              "    .dataframe tbody tr th {\n",
              "        vertical-align: top;\n",
              "    }\n",
              "\n",
              "    .dataframe thead th {\n",
              "        text-align: right;\n",
              "    }\n",
              "</style>\n",
              "<table border=\"1\" class=\"dataframe\">\n",
              "  <thead>\n",
              "    <tr style=\"text-align: right;\">\n",
              "      <th></th>\n",
              "      <th>S/N</th>\n",
              "      <th>Reviews</th>\n",
              "      <th>word_count</th>\n",
              "      <th>char_count</th>\n",
              "      <th>avg_word</th>\n",
              "      <th>stopword_coun</th>\n",
              "      <th>stopword_rate</th>\n",
              "      <th>review_lower</th>\n",
              "      <th>review_nopunc</th>\n",
              "      <th>review_nopunc_nostop</th>\n",
              "      <th>review_nopunc_nostop_nocommon</th>\n",
              "      <th>cleaned_review</th>\n",
              "      <th>polarity</th>\n",
              "      <th>subjectivity</th>\n",
              "    </tr>\n",
              "  </thead>\n",
              "  <tbody>\n",
              "    <tr>\n",
              "      <th>1</th>\n",
              "      <td>2</td>\n",
              "      <td>Food was great but appetizers arrived right be...</td>\n",
              "      <td>9</td>\n",
              "      <td>58</td>\n",
              "      <td>5.555556</td>\n",
              "      <td>3</td>\n",
              "      <td>0.333333</td>\n",
              "      <td>food was great but appetizers arrived right be...</td>\n",
              "      <td>food was great but appetizers arrived right be...</td>\n",
              "      <td>food great appetizers arrived right entrees</td>\n",
              "      <td>food great appetizers arrived entrees</td>\n",
              "      <td>food great appetizer arrived entree</td>\n",
              "      <td>0.800000</td>\n",
              "      <td>0.750000</td>\n",
              "    </tr>\n",
              "    <tr>\n",
              "      <th>2</th>\n",
              "      <td>3</td>\n",
              "      <td>We did an early dinner and the service was sup...</td>\n",
              "      <td>21</td>\n",
              "      <td>126</td>\n",
              "      <td>5.047619</td>\n",
              "      <td>9</td>\n",
              "      <td>0.428571</td>\n",
              "      <td>we did an early dinner and the service was sup...</td>\n",
              "      <td>we did an early dinner and the service was sup...</td>\n",
              "      <td>early dinner service superb especially accommo...</td>\n",
              "      <td>early dinner service superb especially accommo...</td>\n",
              "      <td>early dinner service superb especially accommo...</td>\n",
              "      <td>0.275000</td>\n",
              "      <td>0.700000</td>\n",
              "    </tr>\n",
              "    <tr>\n",
              "      <th>3</th>\n",
              "      <td>4</td>\n",
              "      <td>The worst and cheapest meat cut I have ever ta...</td>\n",
              "      <td>47</td>\n",
              "      <td>242</td>\n",
              "      <td>4.170213</td>\n",
              "      <td>20</td>\n",
              "      <td>0.425532</td>\n",
              "      <td>the worst and cheapest meat cut i have ever ta...</td>\n",
              "      <td>the worst and cheapest meat cut i have ever ta...</td>\n",
              "      <td>worst cheapest meat cut ever tasted two five e...</td>\n",
              "      <td>worst cheapest meat cut tasted two five entrée...</td>\n",
              "      <td>worst cheapest meat cut tasted two five entrée...</td>\n",
              "      <td>-0.433333</td>\n",
              "      <td>0.488889</td>\n",
              "    </tr>\n",
              "    <tr>\n",
              "      <th>4</th>\n",
              "      <td>5</td>\n",
              "      <td>It was such a great experience! Enjoyed visiti...</td>\n",
              "      <td>15</td>\n",
              "      <td>93</td>\n",
              "      <td>5.266667</td>\n",
              "      <td>7</td>\n",
              "      <td>0.466667</td>\n",
              "      <td>it was such a great experience! enjoyed visiti...</td>\n",
              "      <td>it was such a great experience enjoyed visitin...</td>\n",
              "      <td>great experience enjoyed visiting friends food...</td>\n",
              "      <td>great experience enjoyed visiting friends food...</td>\n",
              "      <td>great experience enjoyed visiting friend food ...</td>\n",
              "      <td>0.655556</td>\n",
              "      <td>0.816667</td>\n",
              "    </tr>\n",
              "    <tr>\n",
              "      <th>5</th>\n",
              "      <td>6</td>\n",
              "      <td>I asked for a quieter table and that’s what we...</td>\n",
              "      <td>51</td>\n",
              "      <td>269</td>\n",
              "      <td>4.294118</td>\n",
              "      <td>23</td>\n",
              "      <td>0.450980</td>\n",
              "      <td>i asked for a quieter table and that’s what we...</td>\n",
              "      <td>i asked for a quieter table and thats what we ...</td>\n",
              "      <td>asked quieter table thats given food always go...</td>\n",
              "      <td>quieter table thats given food good waiter obv...</td>\n",
              "      <td>quieter table thats given food good waiter obv...</td>\n",
              "      <td>0.468750</td>\n",
              "      <td>0.587500</td>\n",
              "    </tr>\n",
              "  </tbody>\n",
              "</table>\n",
              "</div>\n",
              "      <button class=\"colab-df-convert\" onclick=\"convertToInteractive('df-7cfacda3-5bbb-4e00-b6ec-b934bb0ec236')\"\n",
              "              title=\"Convert this dataframe to an interactive table.\"\n",
              "              style=\"display:none;\">\n",
              "        \n",
              "  <svg xmlns=\"http://www.w3.org/2000/svg\" height=\"24px\"viewBox=\"0 0 24 24\"\n",
              "       width=\"24px\">\n",
              "    <path d=\"M0 0h24v24H0V0z\" fill=\"none\"/>\n",
              "    <path d=\"M18.56 5.44l.94 2.06.94-2.06 2.06-.94-2.06-.94-.94-2.06-.94 2.06-2.06.94zm-11 1L8.5 8.5l.94-2.06 2.06-.94-2.06-.94L8.5 2.5l-.94 2.06-2.06.94zm10 10l.94 2.06.94-2.06 2.06-.94-2.06-.94-.94-2.06-.94 2.06-2.06.94z\"/><path d=\"M17.41 7.96l-1.37-1.37c-.4-.4-.92-.59-1.43-.59-.52 0-1.04.2-1.43.59L10.3 9.45l-7.72 7.72c-.78.78-.78 2.05 0 2.83L4 21.41c.39.39.9.59 1.41.59.51 0 1.02-.2 1.41-.59l7.78-7.78 2.81-2.81c.8-.78.8-2.07 0-2.86zM5.41 20L4 18.59l7.72-7.72 1.47 1.35L5.41 20z\"/>\n",
              "  </svg>\n",
              "      </button>\n",
              "      \n",
              "  <style>\n",
              "    .colab-df-container {\n",
              "      display:flex;\n",
              "      flex-wrap:wrap;\n",
              "      gap: 12px;\n",
              "    }\n",
              "\n",
              "    .colab-df-convert {\n",
              "      background-color: #E8F0FE;\n",
              "      border: none;\n",
              "      border-radius: 50%;\n",
              "      cursor: pointer;\n",
              "      display: none;\n",
              "      fill: #1967D2;\n",
              "      height: 32px;\n",
              "      padding: 0 0 0 0;\n",
              "      width: 32px;\n",
              "    }\n",
              "\n",
              "    .colab-df-convert:hover {\n",
              "      background-color: #E2EBFA;\n",
              "      box-shadow: 0px 1px 2px rgba(60, 64, 67, 0.3), 0px 1px 3px 1px rgba(60, 64, 67, 0.15);\n",
              "      fill: #174EA6;\n",
              "    }\n",
              "\n",
              "    [theme=dark] .colab-df-convert {\n",
              "      background-color: #3B4455;\n",
              "      fill: #D2E3FC;\n",
              "    }\n",
              "\n",
              "    [theme=dark] .colab-df-convert:hover {\n",
              "      background-color: #434B5C;\n",
              "      box-shadow: 0px 1px 3px 1px rgba(0, 0, 0, 0.15);\n",
              "      filter: drop-shadow(0px 1px 2px rgba(0, 0, 0, 0.3));\n",
              "      fill: #FFFFFF;\n",
              "    }\n",
              "  </style>\n",
              "\n",
              "      <script>\n",
              "        const buttonEl =\n",
              "          document.querySelector('#df-7cfacda3-5bbb-4e00-b6ec-b934bb0ec236 button.colab-df-convert');\n",
              "        buttonEl.style.display =\n",
              "          google.colab.kernel.accessAllowed ? 'block' : 'none';\n",
              "\n",
              "        async function convertToInteractive(key) {\n",
              "          const element = document.querySelector('#df-7cfacda3-5bbb-4e00-b6ec-b934bb0ec236');\n",
              "          const dataTable =\n",
              "            await google.colab.kernel.invokeFunction('convertToInteractive',\n",
              "                                                     [key], {});\n",
              "          if (!dataTable) return;\n",
              "\n",
              "          const docLinkHtml = 'Like what you see? Visit the ' +\n",
              "            '<a target=\"_blank\" href=https://colab.research.google.com/notebooks/data_table.ipynb>data table notebook</a>'\n",
              "            + ' to learn more about interactive tables.';\n",
              "          element.innerHTML = '';\n",
              "          dataTable['output_type'] = 'display_data';\n",
              "          await google.colab.output.renderOutput(dataTable, element);\n",
              "          const docLink = document.createElement('div');\n",
              "          docLink.innerHTML = docLinkHtml;\n",
              "          element.appendChild(docLink);\n",
              "        }\n",
              "      </script>\n",
              "    </div>\n",
              "  </div>\n",
              "  "
            ]
          },
          "metadata": {},
          "execution_count": 34
        }
      ],
      "source": [
        "df.head()"
      ]
    },
    {
      "cell_type": "code",
      "execution_count": 35,
      "id": "b632c07b",
      "metadata": {
        "id": "b632c07b"
      },
      "outputs": [],
      "source": [
        "df.drop(['review_lower','review_nopunc','review_nopunc_nostop','review_nopunc_nostop_nocommon'],axis=1, inplace = True)"
      ]
    },
    {
      "cell_type": "code",
      "execution_count": 36,
      "id": "36728cf0",
      "metadata": {
        "id": "36728cf0"
      },
      "outputs": [],
      "source": [
        "# Rounding up all the decimal points to two decimals.\n",
        "df['polarity'] = df['polarity'].round(decimals = 2)\n",
        "df['subjectivity'] = df['subjectivity'].round(decimals = 2)\n",
        "df['stopword_rate'] = df['stopword_rate'].round(decimals = 2)\n",
        "df['avg_word'] = df['avg_word'].round(decimals = 2)"
      ]
    },
    {
      "cell_type": "code",
      "execution_count": 37,
      "id": "f37befe0",
      "metadata": {
        "id": "f37befe0"
      },
      "outputs": [],
      "source": [
        "df['polarity'] = df['polarity']*100\n",
        "df['subjectivity'] = df['subjectivity']*100"
      ]
    },
    {
      "cell_type": "code",
      "execution_count": 38,
      "id": "53c46950",
      "metadata": {
        "colab": {
          "base_uri": "https://localhost:8080/",
          "height": 206
        },
        "id": "53c46950",
        "outputId": "1fa0c7ed-f629-4c31-9027-60858c2ecc71"
      },
      "outputs": [
        {
          "output_type": "execute_result",
          "data": {
            "text/plain": [
              "   S/N                                            Reviews  word_count  \\\n",
              "1    2  Food was great but appetizers arrived right be...           9   \n",
              "2    3  We did an early dinner and the service was sup...          21   \n",
              "3    4  The worst and cheapest meat cut I have ever ta...          47   \n",
              "4    5  It was such a great experience! Enjoyed visiti...          15   \n",
              "5    6  I asked for a quieter table and that’s what we...          51   \n",
              "\n",
              "   char_count  avg_word  stopword_coun  stopword_rate  \\\n",
              "1          58      5.56              3           0.33   \n",
              "2         126      5.05              9           0.43   \n",
              "3         242      4.17             20           0.43   \n",
              "4          93      5.27              7           0.47   \n",
              "5         269      4.29             23           0.45   \n",
              "\n",
              "                                      cleaned_review  polarity  subjectivity  \n",
              "1                food great appetizer arrived entree      80.0          75.0  \n",
              "2  early dinner service superb especially accommo...      28.0          70.0  \n",
              "3  worst cheapest meat cut tasted two five entrée...     -43.0          49.0  \n",
              "4  great experience enjoyed visiting friend food ...      66.0          82.0  \n",
              "5  quieter table thats given food good waiter obv...      47.0          59.0  "
            ],
            "text/html": [
              "\n",
              "  <div id=\"df-46936444-67a4-41fb-8659-9fd73f3598e8\">\n",
              "    <div class=\"colab-df-container\">\n",
              "      <div>\n",
              "<style scoped>\n",
              "    .dataframe tbody tr th:only-of-type {\n",
              "        vertical-align: middle;\n",
              "    }\n",
              "\n",
              "    .dataframe tbody tr th {\n",
              "        vertical-align: top;\n",
              "    }\n",
              "\n",
              "    .dataframe thead th {\n",
              "        text-align: right;\n",
              "    }\n",
              "</style>\n",
              "<table border=\"1\" class=\"dataframe\">\n",
              "  <thead>\n",
              "    <tr style=\"text-align: right;\">\n",
              "      <th></th>\n",
              "      <th>S/N</th>\n",
              "      <th>Reviews</th>\n",
              "      <th>word_count</th>\n",
              "      <th>char_count</th>\n",
              "      <th>avg_word</th>\n",
              "      <th>stopword_coun</th>\n",
              "      <th>stopword_rate</th>\n",
              "      <th>cleaned_review</th>\n",
              "      <th>polarity</th>\n",
              "      <th>subjectivity</th>\n",
              "    </tr>\n",
              "  </thead>\n",
              "  <tbody>\n",
              "    <tr>\n",
              "      <th>1</th>\n",
              "      <td>2</td>\n",
              "      <td>Food was great but appetizers arrived right be...</td>\n",
              "      <td>9</td>\n",
              "      <td>58</td>\n",
              "      <td>5.56</td>\n",
              "      <td>3</td>\n",
              "      <td>0.33</td>\n",
              "      <td>food great appetizer arrived entree</td>\n",
              "      <td>80.0</td>\n",
              "      <td>75.0</td>\n",
              "    </tr>\n",
              "    <tr>\n",
              "      <th>2</th>\n",
              "      <td>3</td>\n",
              "      <td>We did an early dinner and the service was sup...</td>\n",
              "      <td>21</td>\n",
              "      <td>126</td>\n",
              "      <td>5.05</td>\n",
              "      <td>9</td>\n",
              "      <td>0.43</td>\n",
              "      <td>early dinner service superb especially accommo...</td>\n",
              "      <td>28.0</td>\n",
              "      <td>70.0</td>\n",
              "    </tr>\n",
              "    <tr>\n",
              "      <th>3</th>\n",
              "      <td>4</td>\n",
              "      <td>The worst and cheapest meat cut I have ever ta...</td>\n",
              "      <td>47</td>\n",
              "      <td>242</td>\n",
              "      <td>4.17</td>\n",
              "      <td>20</td>\n",
              "      <td>0.43</td>\n",
              "      <td>worst cheapest meat cut tasted two five entrée...</td>\n",
              "      <td>-43.0</td>\n",
              "      <td>49.0</td>\n",
              "    </tr>\n",
              "    <tr>\n",
              "      <th>4</th>\n",
              "      <td>5</td>\n",
              "      <td>It was such a great experience! Enjoyed visiti...</td>\n",
              "      <td>15</td>\n",
              "      <td>93</td>\n",
              "      <td>5.27</td>\n",
              "      <td>7</td>\n",
              "      <td>0.47</td>\n",
              "      <td>great experience enjoyed visiting friend food ...</td>\n",
              "      <td>66.0</td>\n",
              "      <td>82.0</td>\n",
              "    </tr>\n",
              "    <tr>\n",
              "      <th>5</th>\n",
              "      <td>6</td>\n",
              "      <td>I asked for a quieter table and that’s what we...</td>\n",
              "      <td>51</td>\n",
              "      <td>269</td>\n",
              "      <td>4.29</td>\n",
              "      <td>23</td>\n",
              "      <td>0.45</td>\n",
              "      <td>quieter table thats given food good waiter obv...</td>\n",
              "      <td>47.0</td>\n",
              "      <td>59.0</td>\n",
              "    </tr>\n",
              "  </tbody>\n",
              "</table>\n",
              "</div>\n",
              "      <button class=\"colab-df-convert\" onclick=\"convertToInteractive('df-46936444-67a4-41fb-8659-9fd73f3598e8')\"\n",
              "              title=\"Convert this dataframe to an interactive table.\"\n",
              "              style=\"display:none;\">\n",
              "        \n",
              "  <svg xmlns=\"http://www.w3.org/2000/svg\" height=\"24px\"viewBox=\"0 0 24 24\"\n",
              "       width=\"24px\">\n",
              "    <path d=\"M0 0h24v24H0V0z\" fill=\"none\"/>\n",
              "    <path d=\"M18.56 5.44l.94 2.06.94-2.06 2.06-.94-2.06-.94-.94-2.06-.94 2.06-2.06.94zm-11 1L8.5 8.5l.94-2.06 2.06-.94-2.06-.94L8.5 2.5l-.94 2.06-2.06.94zm10 10l.94 2.06.94-2.06 2.06-.94-2.06-.94-.94-2.06-.94 2.06-2.06.94z\"/><path d=\"M17.41 7.96l-1.37-1.37c-.4-.4-.92-.59-1.43-.59-.52 0-1.04.2-1.43.59L10.3 9.45l-7.72 7.72c-.78.78-.78 2.05 0 2.83L4 21.41c.39.39.9.59 1.41.59.51 0 1.02-.2 1.41-.59l7.78-7.78 2.81-2.81c.8-.78.8-2.07 0-2.86zM5.41 20L4 18.59l7.72-7.72 1.47 1.35L5.41 20z\"/>\n",
              "  </svg>\n",
              "      </button>\n",
              "      \n",
              "  <style>\n",
              "    .colab-df-container {\n",
              "      display:flex;\n",
              "      flex-wrap:wrap;\n",
              "      gap: 12px;\n",
              "    }\n",
              "\n",
              "    .colab-df-convert {\n",
              "      background-color: #E8F0FE;\n",
              "      border: none;\n",
              "      border-radius: 50%;\n",
              "      cursor: pointer;\n",
              "      display: none;\n",
              "      fill: #1967D2;\n",
              "      height: 32px;\n",
              "      padding: 0 0 0 0;\n",
              "      width: 32px;\n",
              "    }\n",
              "\n",
              "    .colab-df-convert:hover {\n",
              "      background-color: #E2EBFA;\n",
              "      box-shadow: 0px 1px 2px rgba(60, 64, 67, 0.3), 0px 1px 3px 1px rgba(60, 64, 67, 0.15);\n",
              "      fill: #174EA6;\n",
              "    }\n",
              "\n",
              "    [theme=dark] .colab-df-convert {\n",
              "      background-color: #3B4455;\n",
              "      fill: #D2E3FC;\n",
              "    }\n",
              "\n",
              "    [theme=dark] .colab-df-convert:hover {\n",
              "      background-color: #434B5C;\n",
              "      box-shadow: 0px 1px 3px 1px rgba(0, 0, 0, 0.15);\n",
              "      filter: drop-shadow(0px 1px 2px rgba(0, 0, 0, 0.3));\n",
              "      fill: #FFFFFF;\n",
              "    }\n",
              "  </style>\n",
              "\n",
              "      <script>\n",
              "        const buttonEl =\n",
              "          document.querySelector('#df-46936444-67a4-41fb-8659-9fd73f3598e8 button.colab-df-convert');\n",
              "        buttonEl.style.display =\n",
              "          google.colab.kernel.accessAllowed ? 'block' : 'none';\n",
              "\n",
              "        async function convertToInteractive(key) {\n",
              "          const element = document.querySelector('#df-46936444-67a4-41fb-8659-9fd73f3598e8');\n",
              "          const dataTable =\n",
              "            await google.colab.kernel.invokeFunction('convertToInteractive',\n",
              "                                                     [key], {});\n",
              "          if (!dataTable) return;\n",
              "\n",
              "          const docLinkHtml = 'Like what you see? Visit the ' +\n",
              "            '<a target=\"_blank\" href=https://colab.research.google.com/notebooks/data_table.ipynb>data table notebook</a>'\n",
              "            + ' to learn more about interactive tables.';\n",
              "          element.innerHTML = '';\n",
              "          dataTable['output_type'] = 'display_data';\n",
              "          await google.colab.output.renderOutput(dataTable, element);\n",
              "          const docLink = document.createElement('div');\n",
              "          docLink.innerHTML = docLinkHtml;\n",
              "          element.appendChild(docLink);\n",
              "        }\n",
              "      </script>\n",
              "    </div>\n",
              "  </div>\n",
              "  "
            ]
          },
          "metadata": {},
          "execution_count": 38
        }
      ],
      "source": [
        "df.head()"
      ]
    },
    {
      "cell_type": "code",
      "execution_count": 39,
      "id": "6e4ea3b0",
      "metadata": {
        "colab": {
          "base_uri": "https://localhost:8080/",
          "height": 300
        },
        "id": "6e4ea3b0",
        "outputId": "cf7bbd70-75de-48ec-c7e1-3b3519830a53"
      },
      "outputs": [
        {
          "output_type": "execute_result",
          "data": {
            "text/plain": [
              "                S/N    word_count    char_count      avg_word  stopword_coun  \\\n",
              "count  18873.000000  18873.000000  18873.000000  18873.000000    18873.00000   \n",
              "mean   11829.766386     26.675833    151.379378      4.908859       10.10417   \n",
              "std     6851.730009     18.171057    101.181747      1.378404        7.78187   \n",
              "min        2.000000      1.000000      6.000000      1.450000        0.00000   \n",
              "25%     5732.000000     12.000000     70.000000      4.380000        4.00000   \n",
              "50%    12141.000000     22.000000    127.000000      4.730000        8.00000   \n",
              "75%    17701.000000     38.000000    216.000000      5.200000       15.00000   \n",
              "max    23457.000000     97.000000    607.000000     90.000000       29.00000   \n",
              "\n",
              "       stopword_rate      polarity  subjectivity  \n",
              "count   18873.000000  18873.000000  18873.000000  \n",
              "mean        0.342504     37.309808     63.564298  \n",
              "std         0.122968     32.927222     21.167686  \n",
              "min         0.000000   -100.000000      0.000000  \n",
              "25%         0.290000     17.000000     53.000000  \n",
              "50%         0.360000     40.000000     65.000000  \n",
              "75%         0.420000     60.000000     76.000000  \n",
              "max         0.780000    100.000000    100.000000  "
            ],
            "text/html": [
              "\n",
              "  <div id=\"df-de870f4f-0924-43d2-9f87-b2d95bfb2855\">\n",
              "    <div class=\"colab-df-container\">\n",
              "      <div>\n",
              "<style scoped>\n",
              "    .dataframe tbody tr th:only-of-type {\n",
              "        vertical-align: middle;\n",
              "    }\n",
              "\n",
              "    .dataframe tbody tr th {\n",
              "        vertical-align: top;\n",
              "    }\n",
              "\n",
              "    .dataframe thead th {\n",
              "        text-align: right;\n",
              "    }\n",
              "</style>\n",
              "<table border=\"1\" class=\"dataframe\">\n",
              "  <thead>\n",
              "    <tr style=\"text-align: right;\">\n",
              "      <th></th>\n",
              "      <th>S/N</th>\n",
              "      <th>word_count</th>\n",
              "      <th>char_count</th>\n",
              "      <th>avg_word</th>\n",
              "      <th>stopword_coun</th>\n",
              "      <th>stopword_rate</th>\n",
              "      <th>polarity</th>\n",
              "      <th>subjectivity</th>\n",
              "    </tr>\n",
              "  </thead>\n",
              "  <tbody>\n",
              "    <tr>\n",
              "      <th>count</th>\n",
              "      <td>18873.000000</td>\n",
              "      <td>18873.000000</td>\n",
              "      <td>18873.000000</td>\n",
              "      <td>18873.000000</td>\n",
              "      <td>18873.00000</td>\n",
              "      <td>18873.000000</td>\n",
              "      <td>18873.000000</td>\n",
              "      <td>18873.000000</td>\n",
              "    </tr>\n",
              "    <tr>\n",
              "      <th>mean</th>\n",
              "      <td>11829.766386</td>\n",
              "      <td>26.675833</td>\n",
              "      <td>151.379378</td>\n",
              "      <td>4.908859</td>\n",
              "      <td>10.10417</td>\n",
              "      <td>0.342504</td>\n",
              "      <td>37.309808</td>\n",
              "      <td>63.564298</td>\n",
              "    </tr>\n",
              "    <tr>\n",
              "      <th>std</th>\n",
              "      <td>6851.730009</td>\n",
              "      <td>18.171057</td>\n",
              "      <td>101.181747</td>\n",
              "      <td>1.378404</td>\n",
              "      <td>7.78187</td>\n",
              "      <td>0.122968</td>\n",
              "      <td>32.927222</td>\n",
              "      <td>21.167686</td>\n",
              "    </tr>\n",
              "    <tr>\n",
              "      <th>min</th>\n",
              "      <td>2.000000</td>\n",
              "      <td>1.000000</td>\n",
              "      <td>6.000000</td>\n",
              "      <td>1.450000</td>\n",
              "      <td>0.00000</td>\n",
              "      <td>0.000000</td>\n",
              "      <td>-100.000000</td>\n",
              "      <td>0.000000</td>\n",
              "    </tr>\n",
              "    <tr>\n",
              "      <th>25%</th>\n",
              "      <td>5732.000000</td>\n",
              "      <td>12.000000</td>\n",
              "      <td>70.000000</td>\n",
              "      <td>4.380000</td>\n",
              "      <td>4.00000</td>\n",
              "      <td>0.290000</td>\n",
              "      <td>17.000000</td>\n",
              "      <td>53.000000</td>\n",
              "    </tr>\n",
              "    <tr>\n",
              "      <th>50%</th>\n",
              "      <td>12141.000000</td>\n",
              "      <td>22.000000</td>\n",
              "      <td>127.000000</td>\n",
              "      <td>4.730000</td>\n",
              "      <td>8.00000</td>\n",
              "      <td>0.360000</td>\n",
              "      <td>40.000000</td>\n",
              "      <td>65.000000</td>\n",
              "    </tr>\n",
              "    <tr>\n",
              "      <th>75%</th>\n",
              "      <td>17701.000000</td>\n",
              "      <td>38.000000</td>\n",
              "      <td>216.000000</td>\n",
              "      <td>5.200000</td>\n",
              "      <td>15.00000</td>\n",
              "      <td>0.420000</td>\n",
              "      <td>60.000000</td>\n",
              "      <td>76.000000</td>\n",
              "    </tr>\n",
              "    <tr>\n",
              "      <th>max</th>\n",
              "      <td>23457.000000</td>\n",
              "      <td>97.000000</td>\n",
              "      <td>607.000000</td>\n",
              "      <td>90.000000</td>\n",
              "      <td>29.00000</td>\n",
              "      <td>0.780000</td>\n",
              "      <td>100.000000</td>\n",
              "      <td>100.000000</td>\n",
              "    </tr>\n",
              "  </tbody>\n",
              "</table>\n",
              "</div>\n",
              "      <button class=\"colab-df-convert\" onclick=\"convertToInteractive('df-de870f4f-0924-43d2-9f87-b2d95bfb2855')\"\n",
              "              title=\"Convert this dataframe to an interactive table.\"\n",
              "              style=\"display:none;\">\n",
              "        \n",
              "  <svg xmlns=\"http://www.w3.org/2000/svg\" height=\"24px\"viewBox=\"0 0 24 24\"\n",
              "       width=\"24px\">\n",
              "    <path d=\"M0 0h24v24H0V0z\" fill=\"none\"/>\n",
              "    <path d=\"M18.56 5.44l.94 2.06.94-2.06 2.06-.94-2.06-.94-.94-2.06-.94 2.06-2.06.94zm-11 1L8.5 8.5l.94-2.06 2.06-.94-2.06-.94L8.5 2.5l-.94 2.06-2.06.94zm10 10l.94 2.06.94-2.06 2.06-.94-2.06-.94-.94-2.06-.94 2.06-2.06.94z\"/><path d=\"M17.41 7.96l-1.37-1.37c-.4-.4-.92-.59-1.43-.59-.52 0-1.04.2-1.43.59L10.3 9.45l-7.72 7.72c-.78.78-.78 2.05 0 2.83L4 21.41c.39.39.9.59 1.41.59.51 0 1.02-.2 1.41-.59l7.78-7.78 2.81-2.81c.8-.78.8-2.07 0-2.86zM5.41 20L4 18.59l7.72-7.72 1.47 1.35L5.41 20z\"/>\n",
              "  </svg>\n",
              "      </button>\n",
              "      \n",
              "  <style>\n",
              "    .colab-df-container {\n",
              "      display:flex;\n",
              "      flex-wrap:wrap;\n",
              "      gap: 12px;\n",
              "    }\n",
              "\n",
              "    .colab-df-convert {\n",
              "      background-color: #E8F0FE;\n",
              "      border: none;\n",
              "      border-radius: 50%;\n",
              "      cursor: pointer;\n",
              "      display: none;\n",
              "      fill: #1967D2;\n",
              "      height: 32px;\n",
              "      padding: 0 0 0 0;\n",
              "      width: 32px;\n",
              "    }\n",
              "\n",
              "    .colab-df-convert:hover {\n",
              "      background-color: #E2EBFA;\n",
              "      box-shadow: 0px 1px 2px rgba(60, 64, 67, 0.3), 0px 1px 3px 1px rgba(60, 64, 67, 0.15);\n",
              "      fill: #174EA6;\n",
              "    }\n",
              "\n",
              "    [theme=dark] .colab-df-convert {\n",
              "      background-color: #3B4455;\n",
              "      fill: #D2E3FC;\n",
              "    }\n",
              "\n",
              "    [theme=dark] .colab-df-convert:hover {\n",
              "      background-color: #434B5C;\n",
              "      box-shadow: 0px 1px 3px 1px rgba(0, 0, 0, 0.15);\n",
              "      filter: drop-shadow(0px 1px 2px rgba(0, 0, 0, 0.3));\n",
              "      fill: #FFFFFF;\n",
              "    }\n",
              "  </style>\n",
              "\n",
              "      <script>\n",
              "        const buttonEl =\n",
              "          document.querySelector('#df-de870f4f-0924-43d2-9f87-b2d95bfb2855 button.colab-df-convert');\n",
              "        buttonEl.style.display =\n",
              "          google.colab.kernel.accessAllowed ? 'block' : 'none';\n",
              "\n",
              "        async function convertToInteractive(key) {\n",
              "          const element = document.querySelector('#df-de870f4f-0924-43d2-9f87-b2d95bfb2855');\n",
              "          const dataTable =\n",
              "            await google.colab.kernel.invokeFunction('convertToInteractive',\n",
              "                                                     [key], {});\n",
              "          if (!dataTable) return;\n",
              "\n",
              "          const docLinkHtml = 'Like what you see? Visit the ' +\n",
              "            '<a target=\"_blank\" href=https://colab.research.google.com/notebooks/data_table.ipynb>data table notebook</a>'\n",
              "            + ' to learn more about interactive tables.';\n",
              "          element.innerHTML = '';\n",
              "          dataTable['output_type'] = 'display_data';\n",
              "          await google.colab.output.renderOutput(dataTable, element);\n",
              "          const docLink = document.createElement('div');\n",
              "          docLink.innerHTML = docLinkHtml;\n",
              "          element.appendChild(docLink);\n",
              "        }\n",
              "      </script>\n",
              "    </div>\n",
              "  </div>\n",
              "  "
            ]
          },
          "metadata": {},
          "execution_count": 39
        }
      ],
      "source": [
        "df.describe()"
      ]
    },
    {
      "cell_type": "code",
      "execution_count": 40,
      "id": "695d498e",
      "metadata": {
        "id": "695d498e"
      },
      "outputs": [],
      "source": [
        "df['polarity']=df['polarity'].astype(np.int64)"
      ]
    },
    {
      "cell_type": "code",
      "execution_count": 41,
      "id": "efab6931",
      "metadata": {
        "id": "efab6931"
      },
      "outputs": [],
      "source": [
        "# Function for converting the polarity into three labels \n",
        "def analysis(polarity):\n",
        "    if polarity >= 40:\n",
        "        return 1\n",
        "    elif polarity > 0 and polarity < 40:\n",
        "        return 0\n",
        "    else:\n",
        "        return -1"
      ]
    },
    {
      "cell_type": "code",
      "execution_count": 42,
      "id": "ea2c6c00",
      "metadata": {
        "id": "ea2c6c00"
      },
      "outputs": [],
      "source": [
        "df['Sentiment_Label'] = df['polarity'].apply(lambda x: analysis(x))"
      ]
    },
    {
      "cell_type": "code",
      "execution_count": 43,
      "id": "748e4489",
      "metadata": {
        "colab": {
          "base_uri": "https://localhost:8080/",
          "height": 206
        },
        "id": "748e4489",
        "outputId": "7ca1da1b-ad54-4dc0-e9f7-20ce9e7ea444"
      },
      "outputs": [
        {
          "output_type": "execute_result",
          "data": {
            "text/plain": [
              "   S/N                                            Reviews  word_count  \\\n",
              "1    2  Food was great but appetizers arrived right be...           9   \n",
              "2    3  We did an early dinner and the service was sup...          21   \n",
              "3    4  The worst and cheapest meat cut I have ever ta...          47   \n",
              "4    5  It was such a great experience! Enjoyed visiti...          15   \n",
              "5    6  I asked for a quieter table and that’s what we...          51   \n",
              "\n",
              "   char_count  avg_word  stopword_coun  stopword_rate  \\\n",
              "1          58      5.56              3           0.33   \n",
              "2         126      5.05              9           0.43   \n",
              "3         242      4.17             20           0.43   \n",
              "4          93      5.27              7           0.47   \n",
              "5         269      4.29             23           0.45   \n",
              "\n",
              "                                      cleaned_review  polarity  subjectivity  \\\n",
              "1                food great appetizer arrived entree        80          75.0   \n",
              "2  early dinner service superb especially accommo...        28          70.0   \n",
              "3  worst cheapest meat cut tasted two five entrée...       -43          49.0   \n",
              "4  great experience enjoyed visiting friend food ...        66          82.0   \n",
              "5  quieter table thats given food good waiter obv...        47          59.0   \n",
              "\n",
              "   Sentiment_Label  \n",
              "1                1  \n",
              "2                0  \n",
              "3               -1  \n",
              "4                1  \n",
              "5                1  "
            ],
            "text/html": [
              "\n",
              "  <div id=\"df-e4228ca2-f8ba-4305-ba40-466d21104f31\">\n",
              "    <div class=\"colab-df-container\">\n",
              "      <div>\n",
              "<style scoped>\n",
              "    .dataframe tbody tr th:only-of-type {\n",
              "        vertical-align: middle;\n",
              "    }\n",
              "\n",
              "    .dataframe tbody tr th {\n",
              "        vertical-align: top;\n",
              "    }\n",
              "\n",
              "    .dataframe thead th {\n",
              "        text-align: right;\n",
              "    }\n",
              "</style>\n",
              "<table border=\"1\" class=\"dataframe\">\n",
              "  <thead>\n",
              "    <tr style=\"text-align: right;\">\n",
              "      <th></th>\n",
              "      <th>S/N</th>\n",
              "      <th>Reviews</th>\n",
              "      <th>word_count</th>\n",
              "      <th>char_count</th>\n",
              "      <th>avg_word</th>\n",
              "      <th>stopword_coun</th>\n",
              "      <th>stopword_rate</th>\n",
              "      <th>cleaned_review</th>\n",
              "      <th>polarity</th>\n",
              "      <th>subjectivity</th>\n",
              "      <th>Sentiment_Label</th>\n",
              "    </tr>\n",
              "  </thead>\n",
              "  <tbody>\n",
              "    <tr>\n",
              "      <th>1</th>\n",
              "      <td>2</td>\n",
              "      <td>Food was great but appetizers arrived right be...</td>\n",
              "      <td>9</td>\n",
              "      <td>58</td>\n",
              "      <td>5.56</td>\n",
              "      <td>3</td>\n",
              "      <td>0.33</td>\n",
              "      <td>food great appetizer arrived entree</td>\n",
              "      <td>80</td>\n",
              "      <td>75.0</td>\n",
              "      <td>1</td>\n",
              "    </tr>\n",
              "    <tr>\n",
              "      <th>2</th>\n",
              "      <td>3</td>\n",
              "      <td>We did an early dinner and the service was sup...</td>\n",
              "      <td>21</td>\n",
              "      <td>126</td>\n",
              "      <td>5.05</td>\n",
              "      <td>9</td>\n",
              "      <td>0.43</td>\n",
              "      <td>early dinner service superb especially accommo...</td>\n",
              "      <td>28</td>\n",
              "      <td>70.0</td>\n",
              "      <td>0</td>\n",
              "    </tr>\n",
              "    <tr>\n",
              "      <th>3</th>\n",
              "      <td>4</td>\n",
              "      <td>The worst and cheapest meat cut I have ever ta...</td>\n",
              "      <td>47</td>\n",
              "      <td>242</td>\n",
              "      <td>4.17</td>\n",
              "      <td>20</td>\n",
              "      <td>0.43</td>\n",
              "      <td>worst cheapest meat cut tasted two five entrée...</td>\n",
              "      <td>-43</td>\n",
              "      <td>49.0</td>\n",
              "      <td>-1</td>\n",
              "    </tr>\n",
              "    <tr>\n",
              "      <th>4</th>\n",
              "      <td>5</td>\n",
              "      <td>It was such a great experience! Enjoyed visiti...</td>\n",
              "      <td>15</td>\n",
              "      <td>93</td>\n",
              "      <td>5.27</td>\n",
              "      <td>7</td>\n",
              "      <td>0.47</td>\n",
              "      <td>great experience enjoyed visiting friend food ...</td>\n",
              "      <td>66</td>\n",
              "      <td>82.0</td>\n",
              "      <td>1</td>\n",
              "    </tr>\n",
              "    <tr>\n",
              "      <th>5</th>\n",
              "      <td>6</td>\n",
              "      <td>I asked for a quieter table and that’s what we...</td>\n",
              "      <td>51</td>\n",
              "      <td>269</td>\n",
              "      <td>4.29</td>\n",
              "      <td>23</td>\n",
              "      <td>0.45</td>\n",
              "      <td>quieter table thats given food good waiter obv...</td>\n",
              "      <td>47</td>\n",
              "      <td>59.0</td>\n",
              "      <td>1</td>\n",
              "    </tr>\n",
              "  </tbody>\n",
              "</table>\n",
              "</div>\n",
              "      <button class=\"colab-df-convert\" onclick=\"convertToInteractive('df-e4228ca2-f8ba-4305-ba40-466d21104f31')\"\n",
              "              title=\"Convert this dataframe to an interactive table.\"\n",
              "              style=\"display:none;\">\n",
              "        \n",
              "  <svg xmlns=\"http://www.w3.org/2000/svg\" height=\"24px\"viewBox=\"0 0 24 24\"\n",
              "       width=\"24px\">\n",
              "    <path d=\"M0 0h24v24H0V0z\" fill=\"none\"/>\n",
              "    <path d=\"M18.56 5.44l.94 2.06.94-2.06 2.06-.94-2.06-.94-.94-2.06-.94 2.06-2.06.94zm-11 1L8.5 8.5l.94-2.06 2.06-.94-2.06-.94L8.5 2.5l-.94 2.06-2.06.94zm10 10l.94 2.06.94-2.06 2.06-.94-2.06-.94-.94-2.06-.94 2.06-2.06.94z\"/><path d=\"M17.41 7.96l-1.37-1.37c-.4-.4-.92-.59-1.43-.59-.52 0-1.04.2-1.43.59L10.3 9.45l-7.72 7.72c-.78.78-.78 2.05 0 2.83L4 21.41c.39.39.9.59 1.41.59.51 0 1.02-.2 1.41-.59l7.78-7.78 2.81-2.81c.8-.78.8-2.07 0-2.86zM5.41 20L4 18.59l7.72-7.72 1.47 1.35L5.41 20z\"/>\n",
              "  </svg>\n",
              "      </button>\n",
              "      \n",
              "  <style>\n",
              "    .colab-df-container {\n",
              "      display:flex;\n",
              "      flex-wrap:wrap;\n",
              "      gap: 12px;\n",
              "    }\n",
              "\n",
              "    .colab-df-convert {\n",
              "      background-color: #E8F0FE;\n",
              "      border: none;\n",
              "      border-radius: 50%;\n",
              "      cursor: pointer;\n",
              "      display: none;\n",
              "      fill: #1967D2;\n",
              "      height: 32px;\n",
              "      padding: 0 0 0 0;\n",
              "      width: 32px;\n",
              "    }\n",
              "\n",
              "    .colab-df-convert:hover {\n",
              "      background-color: #E2EBFA;\n",
              "      box-shadow: 0px 1px 2px rgba(60, 64, 67, 0.3), 0px 1px 3px 1px rgba(60, 64, 67, 0.15);\n",
              "      fill: #174EA6;\n",
              "    }\n",
              "\n",
              "    [theme=dark] .colab-df-convert {\n",
              "      background-color: #3B4455;\n",
              "      fill: #D2E3FC;\n",
              "    }\n",
              "\n",
              "    [theme=dark] .colab-df-convert:hover {\n",
              "      background-color: #434B5C;\n",
              "      box-shadow: 0px 1px 3px 1px rgba(0, 0, 0, 0.15);\n",
              "      filter: drop-shadow(0px 1px 2px rgba(0, 0, 0, 0.3));\n",
              "      fill: #FFFFFF;\n",
              "    }\n",
              "  </style>\n",
              "\n",
              "      <script>\n",
              "        const buttonEl =\n",
              "          document.querySelector('#df-e4228ca2-f8ba-4305-ba40-466d21104f31 button.colab-df-convert');\n",
              "        buttonEl.style.display =\n",
              "          google.colab.kernel.accessAllowed ? 'block' : 'none';\n",
              "\n",
              "        async function convertToInteractive(key) {\n",
              "          const element = document.querySelector('#df-e4228ca2-f8ba-4305-ba40-466d21104f31');\n",
              "          const dataTable =\n",
              "            await google.colab.kernel.invokeFunction('convertToInteractive',\n",
              "                                                     [key], {});\n",
              "          if (!dataTable) return;\n",
              "\n",
              "          const docLinkHtml = 'Like what you see? Visit the ' +\n",
              "            '<a target=\"_blank\" href=https://colab.research.google.com/notebooks/data_table.ipynb>data table notebook</a>'\n",
              "            + ' to learn more about interactive tables.';\n",
              "          element.innerHTML = '';\n",
              "          dataTable['output_type'] = 'display_data';\n",
              "          await google.colab.output.renderOutput(dataTable, element);\n",
              "          const docLink = document.createElement('div');\n",
              "          docLink.innerHTML = docLinkHtml;\n",
              "          element.appendChild(docLink);\n",
              "        }\n",
              "      </script>\n",
              "    </div>\n",
              "  </div>\n",
              "  "
            ]
          },
          "metadata": {},
          "execution_count": 43
        }
      ],
      "source": [
        "df.head()"
      ]
    },
    {
      "cell_type": "code",
      "execution_count": 44,
      "id": "55fd1465",
      "metadata": {
        "id": "55fd1465"
      },
      "outputs": [],
      "source": [
        "df.drop(['word_count','char_count','stopword_coun','stopword_rate','Reviews','subjectivity','avg_word','polarity'],axis=1, inplace = True)"
      ]
    },
    {
      "cell_type": "code",
      "execution_count": 45,
      "id": "592ac46b",
      "metadata": {
        "colab": {
          "base_uri": "https://localhost:8080/",
          "height": 206
        },
        "id": "592ac46b",
        "outputId": "0d6142fd-627d-457e-8a4d-fc659a40cf9f"
      },
      "outputs": [
        {
          "output_type": "execute_result",
          "data": {
            "text/plain": [
              "   S/N                                     cleaned_review  Sentiment_Label\n",
              "1    2                food great appetizer arrived entree                1\n",
              "2    3  early dinner service superb especially accommo...                0\n",
              "3    4  worst cheapest meat cut tasted two five entrée...               -1\n",
              "4    5  great experience enjoyed visiting friend food ...                1\n",
              "5    6  quieter table thats given food good waiter obv...                1"
            ],
            "text/html": [
              "\n",
              "  <div id=\"df-05ba892c-9fe7-4ba9-ad7c-00fd511ab044\">\n",
              "    <div class=\"colab-df-container\">\n",
              "      <div>\n",
              "<style scoped>\n",
              "    .dataframe tbody tr th:only-of-type {\n",
              "        vertical-align: middle;\n",
              "    }\n",
              "\n",
              "    .dataframe tbody tr th {\n",
              "        vertical-align: top;\n",
              "    }\n",
              "\n",
              "    .dataframe thead th {\n",
              "        text-align: right;\n",
              "    }\n",
              "</style>\n",
              "<table border=\"1\" class=\"dataframe\">\n",
              "  <thead>\n",
              "    <tr style=\"text-align: right;\">\n",
              "      <th></th>\n",
              "      <th>S/N</th>\n",
              "      <th>cleaned_review</th>\n",
              "      <th>Sentiment_Label</th>\n",
              "    </tr>\n",
              "  </thead>\n",
              "  <tbody>\n",
              "    <tr>\n",
              "      <th>1</th>\n",
              "      <td>2</td>\n",
              "      <td>food great appetizer arrived entree</td>\n",
              "      <td>1</td>\n",
              "    </tr>\n",
              "    <tr>\n",
              "      <th>2</th>\n",
              "      <td>3</td>\n",
              "      <td>early dinner service superb especially accommo...</td>\n",
              "      <td>0</td>\n",
              "    </tr>\n",
              "    <tr>\n",
              "      <th>3</th>\n",
              "      <td>4</td>\n",
              "      <td>worst cheapest meat cut tasted two five entrée...</td>\n",
              "      <td>-1</td>\n",
              "    </tr>\n",
              "    <tr>\n",
              "      <th>4</th>\n",
              "      <td>5</td>\n",
              "      <td>great experience enjoyed visiting friend food ...</td>\n",
              "      <td>1</td>\n",
              "    </tr>\n",
              "    <tr>\n",
              "      <th>5</th>\n",
              "      <td>6</td>\n",
              "      <td>quieter table thats given food good waiter obv...</td>\n",
              "      <td>1</td>\n",
              "    </tr>\n",
              "  </tbody>\n",
              "</table>\n",
              "</div>\n",
              "      <button class=\"colab-df-convert\" onclick=\"convertToInteractive('df-05ba892c-9fe7-4ba9-ad7c-00fd511ab044')\"\n",
              "              title=\"Convert this dataframe to an interactive table.\"\n",
              "              style=\"display:none;\">\n",
              "        \n",
              "  <svg xmlns=\"http://www.w3.org/2000/svg\" height=\"24px\"viewBox=\"0 0 24 24\"\n",
              "       width=\"24px\">\n",
              "    <path d=\"M0 0h24v24H0V0z\" fill=\"none\"/>\n",
              "    <path d=\"M18.56 5.44l.94 2.06.94-2.06 2.06-.94-2.06-.94-.94-2.06-.94 2.06-2.06.94zm-11 1L8.5 8.5l.94-2.06 2.06-.94-2.06-.94L8.5 2.5l-.94 2.06-2.06.94zm10 10l.94 2.06.94-2.06 2.06-.94-2.06-.94-.94-2.06-.94 2.06-2.06.94z\"/><path d=\"M17.41 7.96l-1.37-1.37c-.4-.4-.92-.59-1.43-.59-.52 0-1.04.2-1.43.59L10.3 9.45l-7.72 7.72c-.78.78-.78 2.05 0 2.83L4 21.41c.39.39.9.59 1.41.59.51 0 1.02-.2 1.41-.59l7.78-7.78 2.81-2.81c.8-.78.8-2.07 0-2.86zM5.41 20L4 18.59l7.72-7.72 1.47 1.35L5.41 20z\"/>\n",
              "  </svg>\n",
              "      </button>\n",
              "      \n",
              "  <style>\n",
              "    .colab-df-container {\n",
              "      display:flex;\n",
              "      flex-wrap:wrap;\n",
              "      gap: 12px;\n",
              "    }\n",
              "\n",
              "    .colab-df-convert {\n",
              "      background-color: #E8F0FE;\n",
              "      border: none;\n",
              "      border-radius: 50%;\n",
              "      cursor: pointer;\n",
              "      display: none;\n",
              "      fill: #1967D2;\n",
              "      height: 32px;\n",
              "      padding: 0 0 0 0;\n",
              "      width: 32px;\n",
              "    }\n",
              "\n",
              "    .colab-df-convert:hover {\n",
              "      background-color: #E2EBFA;\n",
              "      box-shadow: 0px 1px 2px rgba(60, 64, 67, 0.3), 0px 1px 3px 1px rgba(60, 64, 67, 0.15);\n",
              "      fill: #174EA6;\n",
              "    }\n",
              "\n",
              "    [theme=dark] .colab-df-convert {\n",
              "      background-color: #3B4455;\n",
              "      fill: #D2E3FC;\n",
              "    }\n",
              "\n",
              "    [theme=dark] .colab-df-convert:hover {\n",
              "      background-color: #434B5C;\n",
              "      box-shadow: 0px 1px 3px 1px rgba(0, 0, 0, 0.15);\n",
              "      filter: drop-shadow(0px 1px 2px rgba(0, 0, 0, 0.3));\n",
              "      fill: #FFFFFF;\n",
              "    }\n",
              "  </style>\n",
              "\n",
              "      <script>\n",
              "        const buttonEl =\n",
              "          document.querySelector('#df-05ba892c-9fe7-4ba9-ad7c-00fd511ab044 button.colab-df-convert');\n",
              "        buttonEl.style.display =\n",
              "          google.colab.kernel.accessAllowed ? 'block' : 'none';\n",
              "\n",
              "        async function convertToInteractive(key) {\n",
              "          const element = document.querySelector('#df-05ba892c-9fe7-4ba9-ad7c-00fd511ab044');\n",
              "          const dataTable =\n",
              "            await google.colab.kernel.invokeFunction('convertToInteractive',\n",
              "                                                     [key], {});\n",
              "          if (!dataTable) return;\n",
              "\n",
              "          const docLinkHtml = 'Like what you see? Visit the ' +\n",
              "            '<a target=\"_blank\" href=https://colab.research.google.com/notebooks/data_table.ipynb>data table notebook</a>'\n",
              "            + ' to learn more about interactive tables.';\n",
              "          element.innerHTML = '';\n",
              "          dataTable['output_type'] = 'display_data';\n",
              "          await google.colab.output.renderOutput(dataTable, element);\n",
              "          const docLink = document.createElement('div');\n",
              "          docLink.innerHTML = docLinkHtml;\n",
              "          element.appendChild(docLink);\n",
              "        }\n",
              "      </script>\n",
              "    </div>\n",
              "  </div>\n",
              "  "
            ]
          },
          "metadata": {},
          "execution_count": 45
        }
      ],
      "source": [
        "df.head()"
      ]
    },
    {
      "cell_type": "code",
      "execution_count": 46,
      "id": "7ae53c71",
      "metadata": {
        "colab": {
          "base_uri": "https://localhost:8080/"
        },
        "id": "7ae53c71",
        "outputId": "b3af12a1-235b-42a6-a61b-5844c452e0f7"
      },
      "outputs": [
        {
          "output_type": "execute_result",
          "data": {
            "text/plain": [
              "cleaned_review     0\n",
              "Sentiment_Label    0\n",
              "dtype: int64"
            ]
          },
          "metadata": {},
          "execution_count": 46
        }
      ],
      "source": [
        "#Check if there are any null values\n",
        "data_v1 = df[['cleaned_review','Sentiment_Label']]\n",
        "data_v1.isnull().sum()"
      ]
    },
    {
      "cell_type": "code",
      "execution_count": 48,
      "id": "eda5715e",
      "metadata": {
        "colab": {
          "base_uri": "https://localhost:8080/",
          "height": 206
        },
        "id": "eda5715e",
        "outputId": "5f86bf35-6aa5-4eac-d087-9d2b5c0e7287"
      },
      "outputs": [
        {
          "output_type": "execute_result",
          "data": {
            "text/plain": [
              "   S/N                                     cleaned_review  Sentiment_Label\n",
              "1    2                food great appetizer arrived entree                1\n",
              "2    3  early dinner service superb especially accommo...                0\n",
              "3    4  worst cheapest meat cut tasted two five entrée...               -1\n",
              "4    5  great experience enjoyed visiting friend food ...                1\n",
              "5    6  quieter table thats given food good waiter obv...                1"
            ],
            "text/html": [
              "\n",
              "  <div id=\"df-a4b33719-ad32-4a1c-beea-07c707135d56\">\n",
              "    <div class=\"colab-df-container\">\n",
              "      <div>\n",
              "<style scoped>\n",
              "    .dataframe tbody tr th:only-of-type {\n",
              "        vertical-align: middle;\n",
              "    }\n",
              "\n",
              "    .dataframe tbody tr th {\n",
              "        vertical-align: top;\n",
              "    }\n",
              "\n",
              "    .dataframe thead th {\n",
              "        text-align: right;\n",
              "    }\n",
              "</style>\n",
              "<table border=\"1\" class=\"dataframe\">\n",
              "  <thead>\n",
              "    <tr style=\"text-align: right;\">\n",
              "      <th></th>\n",
              "      <th>S/N</th>\n",
              "      <th>cleaned_review</th>\n",
              "      <th>Sentiment_Label</th>\n",
              "    </tr>\n",
              "  </thead>\n",
              "  <tbody>\n",
              "    <tr>\n",
              "      <th>1</th>\n",
              "      <td>2</td>\n",
              "      <td>food great appetizer arrived entree</td>\n",
              "      <td>1</td>\n",
              "    </tr>\n",
              "    <tr>\n",
              "      <th>2</th>\n",
              "      <td>3</td>\n",
              "      <td>early dinner service superb especially accommo...</td>\n",
              "      <td>0</td>\n",
              "    </tr>\n",
              "    <tr>\n",
              "      <th>3</th>\n",
              "      <td>4</td>\n",
              "      <td>worst cheapest meat cut tasted two five entrée...</td>\n",
              "      <td>-1</td>\n",
              "    </tr>\n",
              "    <tr>\n",
              "      <th>4</th>\n",
              "      <td>5</td>\n",
              "      <td>great experience enjoyed visiting friend food ...</td>\n",
              "      <td>1</td>\n",
              "    </tr>\n",
              "    <tr>\n",
              "      <th>5</th>\n",
              "      <td>6</td>\n",
              "      <td>quieter table thats given food good waiter obv...</td>\n",
              "      <td>1</td>\n",
              "    </tr>\n",
              "  </tbody>\n",
              "</table>\n",
              "</div>\n",
              "      <button class=\"colab-df-convert\" onclick=\"convertToInteractive('df-a4b33719-ad32-4a1c-beea-07c707135d56')\"\n",
              "              title=\"Convert this dataframe to an interactive table.\"\n",
              "              style=\"display:none;\">\n",
              "        \n",
              "  <svg xmlns=\"http://www.w3.org/2000/svg\" height=\"24px\"viewBox=\"0 0 24 24\"\n",
              "       width=\"24px\">\n",
              "    <path d=\"M0 0h24v24H0V0z\" fill=\"none\"/>\n",
              "    <path d=\"M18.56 5.44l.94 2.06.94-2.06 2.06-.94-2.06-.94-.94-2.06-.94 2.06-2.06.94zm-11 1L8.5 8.5l.94-2.06 2.06-.94-2.06-.94L8.5 2.5l-.94 2.06-2.06.94zm10 10l.94 2.06.94-2.06 2.06-.94-2.06-.94-.94-2.06-.94 2.06-2.06.94z\"/><path d=\"M17.41 7.96l-1.37-1.37c-.4-.4-.92-.59-1.43-.59-.52 0-1.04.2-1.43.59L10.3 9.45l-7.72 7.72c-.78.78-.78 2.05 0 2.83L4 21.41c.39.39.9.59 1.41.59.51 0 1.02-.2 1.41-.59l7.78-7.78 2.81-2.81c.8-.78.8-2.07 0-2.86zM5.41 20L4 18.59l7.72-7.72 1.47 1.35L5.41 20z\"/>\n",
              "  </svg>\n",
              "      </button>\n",
              "      \n",
              "  <style>\n",
              "    .colab-df-container {\n",
              "      display:flex;\n",
              "      flex-wrap:wrap;\n",
              "      gap: 12px;\n",
              "    }\n",
              "\n",
              "    .colab-df-convert {\n",
              "      background-color: #E8F0FE;\n",
              "      border: none;\n",
              "      border-radius: 50%;\n",
              "      cursor: pointer;\n",
              "      display: none;\n",
              "      fill: #1967D2;\n",
              "      height: 32px;\n",
              "      padding: 0 0 0 0;\n",
              "      width: 32px;\n",
              "    }\n",
              "\n",
              "    .colab-df-convert:hover {\n",
              "      background-color: #E2EBFA;\n",
              "      box-shadow: 0px 1px 2px rgba(60, 64, 67, 0.3), 0px 1px 3px 1px rgba(60, 64, 67, 0.15);\n",
              "      fill: #174EA6;\n",
              "    }\n",
              "\n",
              "    [theme=dark] .colab-df-convert {\n",
              "      background-color: #3B4455;\n",
              "      fill: #D2E3FC;\n",
              "    }\n",
              "\n",
              "    [theme=dark] .colab-df-convert:hover {\n",
              "      background-color: #434B5C;\n",
              "      box-shadow: 0px 1px 3px 1px rgba(0, 0, 0, 0.15);\n",
              "      filter: drop-shadow(0px 1px 2px rgba(0, 0, 0, 0.3));\n",
              "      fill: #FFFFFF;\n",
              "    }\n",
              "  </style>\n",
              "\n",
              "      <script>\n",
              "        const buttonEl =\n",
              "          document.querySelector('#df-a4b33719-ad32-4a1c-beea-07c707135d56 button.colab-df-convert');\n",
              "        buttonEl.style.display =\n",
              "          google.colab.kernel.accessAllowed ? 'block' : 'none';\n",
              "\n",
              "        async function convertToInteractive(key) {\n",
              "          const element = document.querySelector('#df-a4b33719-ad32-4a1c-beea-07c707135d56');\n",
              "          const dataTable =\n",
              "            await google.colab.kernel.invokeFunction('convertToInteractive',\n",
              "                                                     [key], {});\n",
              "          if (!dataTable) return;\n",
              "\n",
              "          const docLinkHtml = 'Like what you see? Visit the ' +\n",
              "            '<a target=\"_blank\" href=https://colab.research.google.com/notebooks/data_table.ipynb>data table notebook</a>'\n",
              "            + ' to learn more about interactive tables.';\n",
              "          element.innerHTML = '';\n",
              "          dataTable['output_type'] = 'display_data';\n",
              "          await google.colab.output.renderOutput(dataTable, element);\n",
              "          const docLink = document.createElement('div');\n",
              "          docLink.innerHTML = docLinkHtml;\n",
              "          element.appendChild(docLink);\n",
              "        }\n",
              "      </script>\n",
              "    </div>\n",
              "  </div>\n",
              "  "
            ]
          },
          "metadata": {},
          "execution_count": 48
        }
      ],
      "source": [
        "df.head()"
      ]
    },
    {
      "cell_type": "markdown",
      "id": "443b71a6",
      "metadata": {
        "id": "443b71a6"
      },
      "source": [
        "# Padding, Truncating, and Splitting"
      ]
    },
    {
      "cell_type": "code",
      "source": [
        "# The maximum number of words to be used. (most frequent)\n",
        "MAX_NB_WORDS = 50000\n",
        "# Max number of words in each complaint.\n",
        "MAX_SEQUENCE_LENGTH = 100\n",
        "# This is fixed.\n",
        "EMBEDDING_DIM = 100\n",
        "\n",
        "tokenizer = Tokenizer(num_words=MAX_NB_WORDS, filters='!\"#$%&()*+,-./:;<=>?@[\\]^_`{|}~', lower=True)\n",
        "tokenizer.fit_on_texts(df['cleaned_review'].values)\n",
        "word_index = tokenizer.word_index\n",
        "print('Found %s unique tokens.' % len(word_index))"
      ],
      "metadata": {
        "colab": {
          "base_uri": "https://localhost:8080/"
        },
        "id": "yQHcbftR9vAI",
        "outputId": "81f7eb21-6e7b-4d04-87e1-fb8f1ce25007"
      },
      "id": "yQHcbftR9vAI",
      "execution_count": 49,
      "outputs": [
        {
          "output_type": "stream",
          "name": "stdout",
          "text": [
            "Found 11567 unique tokens.\n"
          ]
        }
      ]
    },
    {
      "cell_type": "code",
      "source": [
        "X = tokenizer.texts_to_sequences(df['cleaned_review'].values)\n",
        "X = pad_sequences(X, maxlen=MAX_SEQUENCE_LENGTH)\n",
        "print('Shape of data tensor:', X.shape)"
      ],
      "metadata": {
        "colab": {
          "base_uri": "https://localhost:8080/"
        },
        "id": "JmXBRpvJ99jr",
        "outputId": "531f377d-7414-4ad1-f259-20115a4cdcdf"
      },
      "id": "JmXBRpvJ99jr",
      "execution_count": 50,
      "outputs": [
        {
          "output_type": "stream",
          "name": "stdout",
          "text": [
            "Shape of data tensor: (18873, 100)\n"
          ]
        }
      ]
    },
    {
      "cell_type": "code",
      "source": [
        "Y = pd.get_dummies(df['Sentiment_Label']).values\n",
        "print('Shape of label tensor:', Y.shape)"
      ],
      "metadata": {
        "colab": {
          "base_uri": "https://localhost:8080/"
        },
        "id": "Sg8rzAAU-ZTb",
        "outputId": "44e33799-d52a-48b5-d302-5352764aed94"
      },
      "id": "Sg8rzAAU-ZTb",
      "execution_count": 51,
      "outputs": [
        {
          "output_type": "stream",
          "name": "stdout",
          "text": [
            "Shape of label tensor: (18873, 3)\n"
          ]
        }
      ]
    },
    {
      "cell_type": "code",
      "source": [
        "X_train, X_test, Y_train, Y_test = train_test_split(X,Y, test_size = 0.10, random_state = 42)\n",
        "print(X_train.shape,Y_train.shape)\n",
        "print(X_test.shape,Y_test.shape)"
      ],
      "metadata": {
        "colab": {
          "base_uri": "https://localhost:8080/"
        },
        "id": "wTWf5WSK-ZgA",
        "outputId": "df49d004-d955-49cd-fa64-d3f63c192c82"
      },
      "id": "wTWf5WSK-ZgA",
      "execution_count": 52,
      "outputs": [
        {
          "output_type": "stream",
          "name": "stdout",
          "text": [
            "(16985, 100) (16985, 3)\n",
            "(1888, 100) (1888, 3)\n"
          ]
        }
      ]
    },
    {
      "cell_type": "markdown",
      "id": "1d231238",
      "metadata": {
        "id": "1d231238"
      },
      "source": [
        "### Model Fitting"
      ]
    },
    {
      "cell_type": "markdown",
      "source": [
        "### **LSTM Model - 1**"
      ],
      "metadata": {
        "id": "L27L4L_gyY5b"
      },
      "id": "L27L4L_gyY5b"
    },
    {
      "cell_type": "code",
      "source": [
        "# LSTM Model -1 creation\n",
        "# Initialising the RNN\n",
        "model1 = Sequential()\n",
        "model1.add(Embedding(MAX_NB_WORDS, EMBEDDING_DIM, input_length=X.shape[1]))\n",
        "model1.add(SpatialDropout1D(0.4))\n",
        "\n",
        "#first LSTM layer\n",
        "model1.add(LSTM(100, dropout=0.4, recurrent_dropout=0.4))\n",
        "\n",
        "\n",
        "# Adding the output layer\n",
        "# For Full connection layer we use dense\n",
        "# As the output is multiclass so we use unit=3\n",
        "#activation is softmax \n",
        "model1.add(Dense(3, activation='softmax'))\n",
        "\n",
        "print(model1.summary())"
      ],
      "metadata": {
        "id": "yXWtzCTh_8gx",
        "colab": {
          "base_uri": "https://localhost:8080/"
        },
        "outputId": "b0eac1dd-554b-4a01-fc22-2744a666f1ff"
      },
      "id": "yXWtzCTh_8gx",
      "execution_count": 53,
      "outputs": [
        {
          "output_type": "stream",
          "name": "stdout",
          "text": [
            "Model: \"sequential\"\n",
            "_________________________________________________________________\n",
            " Layer (type)                Output Shape              Param #   \n",
            "=================================================================\n",
            " embedding (Embedding)       (None, 100, 100)          5000000   \n",
            "                                                                 \n",
            " spatial_dropout1d (SpatialD  (None, 100, 100)         0         \n",
            " ropout1D)                                                       \n",
            "                                                                 \n",
            " lstm (LSTM)                 (None, 100)               80400     \n",
            "                                                                 \n",
            " dense (Dense)               (None, 3)                 303       \n",
            "                                                                 \n",
            "=================================================================\n",
            "Total params: 5,080,703\n",
            "Trainable params: 5,080,703\n",
            "Non-trainable params: 0\n",
            "_________________________________________________________________\n",
            "None\n"
          ]
        }
      ]
    },
    {
      "cell_type": "markdown",
      "source": [
        "Model Architecture for Model -1"
      ],
      "metadata": {
        "id": "GUODAI4y8hg9"
      },
      "id": "GUODAI4y8hg9"
    },
    {
      "cell_type": "code",
      "source": [
        "# Visualizing the Model Architecture\n",
        "from keras.utils.vis_utils import plot_model\n",
        "plot_model(model1,to_file='model_plot.png',show_shapes=True,show_layer_names=True)"
      ],
      "metadata": {
        "colab": {
          "base_uri": "https://localhost:8080/",
          "height": 533
        },
        "id": "iVRCS9KXqDyv",
        "outputId": "1261b508-7bd8-4512-8e1b-a24ea285e5fb"
      },
      "id": "iVRCS9KXqDyv",
      "execution_count": 54,
      "outputs": [
        {
          "output_type": "execute_result",
          "data": {
            "text/plain": [
              "<IPython.core.display.Image object>"
            ],
            "image/png": "[encoded data removed]"
          },
          "metadata": {},
          "execution_count": 54
        }
      ]
    },
    {
      "cell_type": "code",
      "source": [
        "model1.compile(loss='categorical_crossentropy', optimizer='adam', metrics=['accuracy'])"
      ],
      "metadata": {
        "id": "8OfqmqGTBUW4"
      },
      "id": "8OfqmqGTBUW4",
      "execution_count": 55,
      "outputs": []
    },
    {
      "cell_type": "markdown",
      "source": [
        "Training for Model -1"
      ],
      "metadata": {
        "id": "zJRByqj_ADp5"
      },
      "id": "zJRByqj_ADp5"
    },
    {
      "cell_type": "code",
      "source": [
        "# Training the Model - 1\n",
        "epochs = 5\n",
        "batch_size = 64\n",
        "trained_model1 = model1.fit(X_train, Y_train, epochs=epochs, batch_size=batch_size,validation_split=0.1,callbacks=[EarlyStopping(monitor='val_loss', patience=3, min_delta=0.0001)])"
      ],
      "metadata": {
        "colab": {
          "base_uri": "https://localhost:8080/"
        },
        "id": "d6IzBPMBx1Jb",
        "outputId": "6aabc06a-6b0a-411b-ecab-0a3e21b03222"
      },
      "id": "d6IzBPMBx1Jb",
      "execution_count": 56,
      "outputs": [
        {
          "output_type": "stream",
          "name": "stdout",
          "text": [
            "Epoch 1/5\n",
            "239/239 [==============================] - 88s 353ms/step - loss: 0.6721 - accuracy: 0.6953 - val_loss: 0.4283 - val_accuracy: 0.8140\n",
            "Epoch 2/5\n",
            "239/239 [==============================] - 85s 356ms/step - loss: 0.3487 - accuracy: 0.8569 - val_loss: 0.3549 - val_accuracy: 0.8387\n",
            "Epoch 3/5\n",
            "239/239 [==============================] - 83s 348ms/step - loss: 0.2461 - accuracy: 0.9046 - val_loss: 0.3292 - val_accuracy: 0.8652\n",
            "Epoch 4/5\n",
            "239/239 [==============================] - 83s 347ms/step - loss: 0.1911 - accuracy: 0.9274 - val_loss: 0.3127 - val_accuracy: 0.8829\n",
            "Epoch 5/5\n",
            "239/239 [==============================] - 83s 346ms/step - loss: 0.1691 - accuracy: 0.9366 - val_loss: 0.3325 - val_accuracy: 0.8746\n"
          ]
        }
      ]
    },
    {
      "cell_type": "markdown",
      "source": [
        "Testing Accuracy for Model -1"
      ],
      "metadata": {
        "id": "7J0pIxYr_8a_"
      },
      "id": "7J0pIxYr_8a_"
    },
    {
      "cell_type": "code",
      "source": [
        "test_loss, test_acc = model1.evaluate(X_test,Y_test, verbose=2)\n",
        "print('\\nTest accuracy:', test_acc)"
      ],
      "metadata": {
        "colab": {
          "base_uri": "https://localhost:8080/"
        },
        "id": "8DKETMTDEmLM",
        "outputId": "30a479a7-71a0-4959-e05f-4b00705a9e26"
      },
      "id": "8DKETMTDEmLM",
      "execution_count": 57,
      "outputs": [
        {
          "output_type": "stream",
          "name": "stdout",
          "text": [
            "59/59 - 2s - loss: 0.3070 - accuracy: 0.8861 - 2s/epoch - 35ms/step\n",
            "\n",
            "Test accuracy: 0.8861228823661804\n"
          ]
        }
      ]
    },
    {
      "cell_type": "markdown",
      "source": [
        "Confusion Matrix for Model -1"
      ],
      "metadata": {
        "id": "9R5HKBSV1WBA"
      },
      "id": "9R5HKBSV1WBA"
    },
    {
      "cell_type": "code",
      "source": [
        "y_test_arg1=np.argmax(Y_test,axis=1)\n",
        "Y_pred1 = np.argmax(model1.predict(X_test),axis=1)\n",
        "print('Confusion Matrix')\n",
        "print(confusion_matrix(Y_pred1,y_test_arg1))"
      ],
      "metadata": {
        "colab": {
          "base_uri": "https://localhost:8080/"
        },
        "id": "kRmQXx15S2c3",
        "outputId": "dc2a8a5d-850e-4354-c14f-0bd59c400e25"
      },
      "id": "kRmQXx15S2c3",
      "execution_count": 58,
      "outputs": [
        {
          "output_type": "stream",
          "name": "stdout",
          "text": [
            "Confusion Matrix\n",
            "[[234  31   4]\n",
            " [ 45 536  62]\n",
            " [  0  73 903]]\n"
          ]
        }
      ]
    },
    {
      "cell_type": "code",
      "source": [
        "import seaborn as sns\n",
        "y_test_arg1=np.argmax(Y_test,axis=1)\n",
        "Y_pred1 = np.argmax(model1.predict(X_test),axis=1)\n",
        "cm =confusion_matrix(Y_pred1,y_test_arg1)\n",
        "cm_df = pd.DataFrame(cm,index = ['Negative','Neutral','Positive'],columns = ['Negative','Neutral','Positive'])\n",
        "\n",
        "plt.figure(figsize=(8,6))\n",
        "sns.heatmap(cm_df, annot=True, fmt='g',cmap=\"Blues\")\n",
        "plt.ylabel('True label')\n",
        "plt.xlabel('Predicted label')\n",
        "plt.show()"
      ],
      "metadata": {
        "colab": {
          "base_uri": "https://localhost:8080/",
          "height": 388
        },
        "id": "do9HStx1WvDP",
        "outputId": "bd6e2888-28b4-47d5-9f19-15cd6fe2fd19"
      },
      "id": "do9HStx1WvDP",
      "execution_count": 59,
      "outputs": [
        {
          "output_type": "display_data",
          "data": {
            "text/plain": [
              "<Figure size 576x432 with 2 Axes>"
            ],
            "image/png": "[encoded data removed]"
          },
          "metadata": {
            "needs_background": "light"
          }
        }
      ]
    },
    {
      "cell_type": "markdown",
      "source": [
        "F1 Score for Model -1"
      ],
      "metadata": {
        "id": "uDrSS9cY2F37"
      },
      "id": "uDrSS9cY2F37"
    },
    {
      "cell_type": "code",
      "source": [
        "# The formula for the standard F1-score is the harmonic mean of the precision and recall. A perfect model has an F-score of 1.\n",
        "from sklearn.metrics import f1_score\n",
        "print('F1-score: {0}'.format(f1_score(Y_pred1,y_test_arg1,average='weighted')))"
      ],
      "metadata": {
        "colab": {
          "base_uri": "https://localhost:8080/"
        },
        "id": "QC3UYnCs2JQA",
        "outputId": "090f2d3a-f616-441a-c65b-8ba5e1f41c0d"
      },
      "id": "QC3UYnCs2JQA",
      "execution_count": 60,
      "outputs": [
        {
          "output_type": "stream",
          "name": "stdout",
          "text": [
            "F1-score: 0.8862463511765408\n"
          ]
        }
      ]
    },
    {
      "cell_type": "markdown",
      "source": [
        "Accuracy and loss for training and testing for Model -1"
      ],
      "metadata": {
        "id": "9mU0aYnn25Xn"
      },
      "id": "9mU0aYnn25Xn"
    },
    {
      "cell_type": "code",
      "source": [
        "import matplotlib.pyplot as plt\n",
        "plt.plot(trained_model1.history['accuracy'],color='red')\n",
        "plt.plot(trained_model1.history['val_accuracy'],color='green')\n",
        "\n",
        "plt.title('model accuracy')\n",
        "plt.ylabel('accuracy')\n",
        "plt.xlabel('epoch')\n",
        "plt.legend(['train','Val'], loc='upper left')\n",
        "plt.show()\n",
        "\n",
        "plt.plot(trained_model1.history['loss'],color='red')\n",
        "plt.plot(trained_model1.history['val_loss'],color='green')\n",
        "\n",
        "plt.title('model loss')\n",
        "plt.ylabel('loss')\n",
        "plt.xlabel('epoch')\n",
        "plt.legend(['train','Val'], loc='upper left')\n",
        "plt.show()"
      ],
      "metadata": {
        "colab": {
          "base_uri": "https://localhost:8080/",
          "height": 573
        },
        "id": "ovBvAv-A24FA",
        "outputId": "78177fad-8965-4fd3-dcc1-266d06103759"
      },
      "id": "ovBvAv-A24FA",
      "execution_count": 61,
      "outputs": [
        {
          "output_type": "display_data",
          "data": {
            "text/plain": [
              "<Figure size 432x288 with 1 Axes>"
            ],
            "image/png": "[encoded data removed]"
          },
          "metadata": {
            "needs_background": "light"
          }
        },
        {
          "output_type": "display_data",
          "data": {
            "text/plain": [
              "<Figure size 432x288 with 1 Axes>"
            ],
            "image/png": "[encoded data removed]"
          },
          "metadata": {
            "needs_background": "light"
          }
        }
      ]
    },
    {
      "cell_type": "markdown",
      "source": [
        "### **(GRU) Model - 2**"
      ],
      "metadata": {
        "id": "MikrRilL-ZSX"
      },
      "id": "MikrRilL-ZSX"
    },
    {
      "cell_type": "code",
      "source": [
        "from keras.layers import GRU"
      ],
      "metadata": {
        "id": "e8wR-jCAQCNs"
      },
      "id": "e8wR-jCAQCNs",
      "execution_count": 62,
      "outputs": []
    },
    {
      "cell_type": "code",
      "source": [
        "# # Initialising the GRU model\n",
        "model2 = Sequential()\n",
        "embedding_layer = Embedding(MAX_NB_WORDS, EMBEDDING_DIM, input_length=X.shape[1])\n",
        "model2.add(embedding_layer)\n",
        "model2.add(SpatialDropout1D(0.4))\n",
        "\n",
        "#first GRU layer\n",
        "model2.add(GRU(100, dropout=0.4, recurrent_dropout=0.4))\n",
        "\n",
        "\n",
        "# Adding the output layer\n",
        "# For Full connection layer we use dense\n",
        "# As the output is 1D so we use unit=1\n",
        "#activation is sigmoid \n",
        "model2.add(Dense(3, activation='softmax'))\n",
        "\n",
        "model2.summary()"
      ],
      "metadata": {
        "colab": {
          "base_uri": "https://localhost:8080/"
        },
        "id": "-rm-ZkIs3xNd",
        "outputId": "27f466dc-e366-4b5a-8de8-e2d13afe5b0b"
      },
      "id": "-rm-ZkIs3xNd",
      "execution_count": 67,
      "outputs": [
        {
          "output_type": "stream",
          "name": "stdout",
          "text": [
            "Model: \"sequential_2\"\n",
            "_________________________________________________________________\n",
            " Layer (type)                Output Shape              Param #   \n",
            "=================================================================\n",
            " embedding_2 (Embedding)     (None, 100, 100)          5000000   \n",
            "                                                                 \n",
            " spatial_dropout1d_2 (Spatia  (None, 100, 100)         0         \n",
            " lDropout1D)                                                     \n",
            "                                                                 \n",
            " gru_1 (GRU)                 (None, 100)               60600     \n",
            "                                                                 \n",
            " dense_2 (Dense)             (None, 3)                 303       \n",
            "                                                                 \n",
            "=================================================================\n",
            "Total params: 5,060,903\n",
            "Trainable params: 5,060,903\n",
            "Non-trainable params: 0\n",
            "_________________________________________________________________\n"
          ]
        }
      ]
    },
    {
      "cell_type": "markdown",
      "source": [
        "Model Architecture for Model - 2"
      ],
      "metadata": {
        "id": "qm5tzw_oE78-"
      },
      "id": "qm5tzw_oE78-"
    },
    {
      "cell_type": "code",
      "source": [
        "# Visualizing the Model Architecture\n",
        "from keras.utils.vis_utils import plot_model\n",
        "plot_model(model2,to_file='model_plot.png',show_shapes=True,show_layer_names=True)"
      ],
      "metadata": {
        "colab": {
          "base_uri": "https://localhost:8080/",
          "height": 533
        },
        "id": "xhqJN7o-E6fs",
        "outputId": "e668adf3-634e-4432-fb72-b20c0da29113"
      },
      "id": "xhqJN7o-E6fs",
      "execution_count": 68,
      "outputs": [
        {
          "output_type": "execute_result",
          "data": {
            "text/plain": [
              "<IPython.core.display.Image object>"
            ],
            "image/png": "[encoded data removed]"
          },
          "metadata": {},
          "execution_count": 68
        }
      ]
    },
    {
      "cell_type": "code",
      "source": [
        "model2.compile(loss = 'categorical_crossentropy', optimizer='adam',metrics = ['accuracy'])"
      ],
      "metadata": {
        "id": "pz6jDL7a5Nuo"
      },
      "id": "pz6jDL7a5Nuo",
      "execution_count": 69,
      "outputs": []
    },
    {
      "cell_type": "markdown",
      "source": [
        "Training for Model - 2"
      ],
      "metadata": {
        "id": "lqKqWyS0FR12"
      },
      "id": "lqKqWyS0FR12"
    },
    {
      "cell_type": "code",
      "source": [
        "# Training the Model - 2\n",
        "epochs = 5\n",
        "batch_size = 64\n",
        "trained_model2 = model2.fit(X_train, Y_train, epochs=epochs, batch_size=batch_size,validation_split=0.1,callbacks=[EarlyStopping(monitor='val_loss', patience=3, min_delta=0.0001)])"
      ],
      "metadata": {
        "colab": {
          "base_uri": "https://localhost:8080/"
        },
        "id": "SRbh9BsZ6FVZ",
        "outputId": "1532fcef-a69a-40c1-b7a2-f2b50fe7ad68"
      },
      "id": "SRbh9BsZ6FVZ",
      "execution_count": 70,
      "outputs": [
        {
          "output_type": "stream",
          "name": "stdout",
          "text": [
            "Epoch 1/5\n",
            "239/239 [==============================] - 87s 352ms/step - loss: 0.6533 - accuracy: 0.6934 - val_loss: 0.4111 - val_accuracy: 0.8234\n",
            "Epoch 2/5\n",
            "239/239 [==============================] - 75s 315ms/step - loss: 0.3376 - accuracy: 0.8563 - val_loss: 0.3297 - val_accuracy: 0.8523\n",
            "Epoch 3/5\n",
            "239/239 [==============================] - 75s 314ms/step - loss: 0.2552 - accuracy: 0.8976 - val_loss: 0.3123 - val_accuracy: 0.8699\n",
            "Epoch 4/5\n",
            "239/239 [==============================] - 75s 313ms/step - loss: 0.2035 - accuracy: 0.9192 - val_loss: 0.3342 - val_accuracy: 0.8664\n",
            "Epoch 5/5\n",
            "239/239 [==============================] - 75s 313ms/step - loss: 0.1789 - accuracy: 0.9305 - val_loss: 0.3294 - val_accuracy: 0.8735\n"
          ]
        }
      ]
    },
    {
      "cell_type": "markdown",
      "source": [
        "Testing Accuracy for Model -2"
      ],
      "metadata": {
        "id": "Qgj3HO59Fcag"
      },
      "id": "Qgj3HO59Fcag"
    },
    {
      "cell_type": "code",
      "source": [
        "test_loss, test_acc = model2.evaluate(X_test,Y_test, verbose=2)\n",
        "print('\\nTest accuracy:', test_acc)"
      ],
      "metadata": {
        "colab": {
          "base_uri": "https://localhost:8080/"
        },
        "id": "qi8FCCHTD0A3",
        "outputId": "3e6c6df1-4b38-40b5-d16d-4b330c1688b5"
      },
      "id": "qi8FCCHTD0A3",
      "execution_count": 71,
      "outputs": [
        {
          "output_type": "stream",
          "name": "stdout",
          "text": [
            "59/59 - 2s - loss: 0.3151 - accuracy: 0.8776 - 2s/epoch - 31ms/step\n",
            "\n",
            "Test accuracy: 0.8776482939720154\n"
          ]
        }
      ]
    },
    {
      "cell_type": "markdown",
      "source": [
        "Confusion Matrix for Model -2"
      ],
      "metadata": {
        "id": "gPd-IRQPFpNA"
      },
      "id": "gPd-IRQPFpNA"
    },
    {
      "cell_type": "code",
      "source": [
        "y_test_arg2=np.argmax(Y_test,axis=1)\n",
        "Y_pred2 = np.argmax(model2.predict(X_test),axis=1)\n",
        "print('Confusion Matrix')\n",
        "print(confusion_matrix(Y_pred2,y_test_arg2))"
      ],
      "metadata": {
        "colab": {
          "base_uri": "https://localhost:8080/"
        },
        "id": "AftaCRz96Ipz",
        "outputId": "bd61b2cf-709a-4a3c-bb29-79febf3654ac"
      },
      "id": "AftaCRz96Ipz",
      "execution_count": 72,
      "outputs": [
        {
          "output_type": "stream",
          "name": "stdout",
          "text": [
            "Confusion Matrix\n",
            "[[240  45   3]\n",
            " [ 32 509  58]\n",
            " [  7  86 908]]\n"
          ]
        }
      ]
    },
    {
      "cell_type": "code",
      "source": [
        "import seaborn as sns\n",
        "y_test_arg2=np.argmax(Y_test,axis=1)\n",
        "Y_pred2 = np.argmax(model2.predict(X_test),axis=1)\n",
        "cm =confusion_matrix(Y_pred2,y_test_arg2)\n",
        "cm_df = pd.DataFrame(cm,index = ['Negative','Neutral','Positive'],columns = ['Negative','Neutral','Positive'])\n",
        "\n",
        "plt.figure(figsize=(8,6))\n",
        "sns.heatmap(cm_df, annot=True, fmt='g',cmap=\"Blues\")\n",
        "plt.ylabel('True label')\n",
        "plt.xlabel('Predicted label')\n",
        "plt.show()"
      ],
      "metadata": {
        "colab": {
          "base_uri": "https://localhost:8080/",
          "height": 388
        },
        "id": "5Kshj_O-VqIp",
        "outputId": "29e07f14-fc2d-41a5-c1a4-b66409c01958"
      },
      "id": "5Kshj_O-VqIp",
      "execution_count": 73,
      "outputs": [
        {
          "output_type": "display_data",
          "data": {
            "text/plain": [
              "<Figure size 576x432 with 2 Axes>"
            ],
            "image/png": "[encoded data removed]"
          },
          "metadata": {
            "needs_background": "light"
          }
        }
      ]
    },
    {
      "cell_type": "markdown",
      "source": [
        "F1 Score for Model -2"
      ],
      "metadata": {
        "id": "tMDofx91GNti"
      },
      "id": "tMDofx91GNti"
    },
    {
      "cell_type": "code",
      "source": [
        "# The formula for the standard F1-score is the harmonic mean of the precision and recall. A perfect model has an F-score of 1.\n",
        "from sklearn.metrics import f1_score\n",
        "print('F1-score: {0}'.format(f1_score(Y_pred2,y_test_arg2,average='weighted')))"
      ],
      "metadata": {
        "id": "kFR2qUYq8l8m",
        "colab": {
          "base_uri": "https://localhost:8080/"
        },
        "outputId": "279e426e-39c1-4eb4-8a67-a66a6f757f0d"
      },
      "id": "kFR2qUYq8l8m",
      "execution_count": 74,
      "outputs": [
        {
          "output_type": "stream",
          "name": "stdout",
          "text": [
            "F1-score: 0.8785568539584724\n"
          ]
        }
      ]
    },
    {
      "cell_type": "markdown",
      "source": [
        "Accuracy and loss for training and testing for Model -2"
      ],
      "metadata": {
        "id": "wHr2c-dIHGJj"
      },
      "id": "wHr2c-dIHGJj"
    },
    {
      "cell_type": "code",
      "source": [
        "import matplotlib.pyplot as plt\n",
        "plt.plot(trained_model2.history['accuracy'],color='red')\n",
        "plt.plot(trained_model2.history['val_accuracy'],color='green')\n",
        "\n",
        "plt.title('model accuracy')\n",
        "plt.ylabel('accuracy')\n",
        "plt.xlabel('epoch')\n",
        "plt.legend(['train','Val'], loc='upper left')\n",
        "plt.show()\n",
        "\n",
        "plt.plot(trained_model2.history['loss'],color='red')\n",
        "plt.plot(trained_model2.history['val_loss'],color='green')\n",
        "\n",
        "plt.title('model loss')\n",
        "plt.ylabel('loss')\n",
        "plt.xlabel('epoch')\n",
        "plt.legend(['train','Val'], loc='upper left')\n",
        "plt.show()"
      ],
      "metadata": {
        "colab": {
          "base_uri": "https://localhost:8080/",
          "height": 573
        },
        "id": "zGQ8bOAKGRln",
        "outputId": "e9a330b2-69f3-48d9-b105-d8cc2fd46740"
      },
      "id": "zGQ8bOAKGRln",
      "execution_count": 75,
      "outputs": [
        {
          "output_type": "display_data",
          "data": {
            "text/plain": [
              "<Figure size 432x288 with 1 Axes>"
            ],
            "image/png": "[encoded data removed]"
          },
          "metadata": {
            "needs_background": "light"
          }
        },
        {
          "output_type": "display_data",
          "data": {
            "text/plain": [
              "<Figure size 432x288 with 1 Axes>"
            ],
            "image/png": "[encoded data removed]"
          },
          "metadata": {
            "needs_background": "light"
          }
        }
      ]
    },
    {
      "cell_type": "markdown",
      "source": [
        "### **(CNN-LSTM HYBRID) Model - 3**"
      ],
      "metadata": {
        "id": "7MUJZCixYNUY"
      },
      "id": "7MUJZCixYNUY"
    },
    {
      "cell_type": "code",
      "source": [
        "import tensorflow as tf\n",
        "import matplotlib.pyplot as plt\n",
        "import numpy as np\n",
        "from tensorflow.keras import datasets, layers, models\n",
        "from keras.layers import LSTM, Conv1D, Dense, Flatten, MaxPooling1D, Dropout\n",
        "from matplotlib import pyplot\n",
        "from keras.models import Sequential\n",
        "from keras.layers import Conv2D\n",
        "from keras.layers import Conv1D\n",
        "from keras.layers import MaxPooling2D\n",
        "from keras.layers import Dense\n",
        "from keras.layers import Flatten\n",
        "from keras.layers import Dropout\n",
        "from keras.layers import BatchNormalization"
      ],
      "metadata": {
        "id": "KGhsI5Qpv9gH"
      },
      "id": "KGhsI5Qpv9gH",
      "execution_count": 76,
      "outputs": []
    },
    {
      "cell_type": "code",
      "source": [
        "# CNN-LSTM HYBRID Model -3 creation\n",
        "# Initialising the RNN\n",
        "model3 = Sequential()\n",
        "model3.add(Embedding(MAX_NB_WORDS, EMBEDDING_DIM, input_length=X.shape[1]))\n",
        "model3.add(SpatialDropout1D(0.4))\n",
        "#first CNN layer\n",
        "model3.add(Conv1D(filters=64, kernel_size=5, activation='relu', padding='same'))\n",
        "#max pooling layer\n",
        "model3.add(MaxPooling1D(pool_size=2))\n",
        "model3.add(Dropout(0.4))\n",
        "#first LSTM layer\n",
        "model3.add(LSTM(100, dropout=0.4, recurrent_dropout=0.4))\n",
        "\n",
        "\n",
        "# Adding the output layer\n",
        "# For Full connection layer we use dense\n",
        "# As the output is multiclass so we use unit=3\n",
        "#activation is softmax \n",
        "model3.add(Dense(3, activation='softmax'))\n",
        "\n",
        "print(model3.summary())\n"
      ],
      "metadata": {
        "colab": {
          "base_uri": "https://localhost:8080/"
        },
        "id": "O-a55zUKsPUk",
        "outputId": "9c9f3ad1-a7b5-4e27-ae7a-92aeea28fe8a"
      },
      "id": "O-a55zUKsPUk",
      "execution_count": 77,
      "outputs": [
        {
          "output_type": "stream",
          "name": "stdout",
          "text": [
            "Model: \"sequential_3\"\n",
            "_________________________________________________________________\n",
            " Layer (type)                Output Shape              Param #   \n",
            "=================================================================\n",
            " embedding_3 (Embedding)     (None, 100, 100)          5000000   \n",
            "                                                                 \n",
            " spatial_dropout1d_3 (Spatia  (None, 100, 100)         0         \n",
            " lDropout1D)                                                     \n",
            "                                                                 \n",
            " conv1d (Conv1D)             (None, 100, 64)           32064     \n",
            "                                                                 \n",
            " max_pooling1d (MaxPooling1D  (None, 50, 64)           0         \n",
            " )                                                               \n",
            "                                                                 \n",
            " dropout (Dropout)           (None, 50, 64)            0         \n",
            "                                                                 \n",
            " lstm_1 (LSTM)               (None, 100)               66000     \n",
            "                                                                 \n",
            " dense_3 (Dense)             (None, 3)                 303       \n",
            "                                                                 \n",
            "=================================================================\n",
            "Total params: 5,098,367\n",
            "Trainable params: 5,098,367\n",
            "Non-trainable params: 0\n",
            "_________________________________________________________________\n",
            "None\n"
          ]
        }
      ]
    },
    {
      "cell_type": "code",
      "source": [
        "# Visualizing the Model Architecture\n",
        "from keras.utils.vis_utils import plot_model\n",
        "plot_model(model3,to_file='model_plot.png',show_shapes=True,show_layer_names=True)"
      ],
      "metadata": {
        "colab": {
          "base_uri": "https://localhost:8080/",
          "height": 865
        },
        "id": "NYFq1r5bsPud",
        "outputId": "9b56fd1d-1df1-434d-82b8-2b90e0fd14df"
      },
      "id": "NYFq1r5bsPud",
      "execution_count": 78,
      "outputs": [
        {
          "output_type": "execute_result",
          "data": {
            "text/plain": [
              "<IPython.core.display.Image object>"
            ],
            "image/png": "[encoded data removed]"
          },
          "metadata": {},
          "execution_count": 78
        }
      ]
    },
    {
      "cell_type": "code",
      "source": [
        "model3.compile(loss = 'categorical_crossentropy', optimizer='adam',metrics = ['accuracy'])"
      ],
      "metadata": {
        "id": "Htm3yC89sQIx"
      },
      "id": "Htm3yC89sQIx",
      "execution_count": 79,
      "outputs": []
    },
    {
      "cell_type": "code",
      "source": [
        "# Training the Model - 3\n",
        "epochs = 5\n",
        "batch_size = 64\n",
        "trained_model3= model3.fit(X_train, Y_train, epochs=epochs, batch_size=batch_size,validation_split=0.1,callbacks=[EarlyStopping(monitor='val_loss', patience=3, min_delta=0.0001)])"
      ],
      "metadata": {
        "colab": {
          "base_uri": "https://localhost:8080/"
        },
        "id": "N8_hoZjMxlSl",
        "outputId": "c49c04bb-70f2-4425-f10d-8e81a1e8f6ab"
      },
      "id": "N8_hoZjMxlSl",
      "execution_count": 80,
      "outputs": [
        {
          "output_type": "stream",
          "name": "stdout",
          "text": [
            "Epoch 1/5\n",
            "239/239 [==============================] - 59s 232ms/step - loss: 0.6524 - accuracy: 0.7065 - val_loss: 0.3873 - val_accuracy: 0.8323\n",
            "Epoch 2/5\n",
            "239/239 [==============================] - 55s 229ms/step - loss: 0.3183 - accuracy: 0.8712 - val_loss: 0.3262 - val_accuracy: 0.8640\n",
            "Epoch 3/5\n",
            "239/239 [==============================] - 63s 264ms/step - loss: 0.2059 - accuracy: 0.9229 - val_loss: 0.3260 - val_accuracy: 0.8705\n",
            "Epoch 4/5\n",
            "239/239 [==============================] - 56s 235ms/step - loss: 0.1589 - accuracy: 0.9377 - val_loss: 0.3247 - val_accuracy: 0.8776\n",
            "Epoch 5/5\n",
            "239/239 [==============================] - 56s 232ms/step - loss: 0.1217 - accuracy: 0.9549 - val_loss: 0.3486 - val_accuracy: 0.8811\n"
          ]
        }
      ]
    },
    {
      "cell_type": "code",
      "source": [
        "test_loss, test_acc = model3.evaluate(X_test,Y_test, verbose=2)\n",
        "print('\\nTest accuracy:', test_acc)"
      ],
      "metadata": {
        "id": "4eg_l61Sxliz",
        "colab": {
          "base_uri": "https://localhost:8080/"
        },
        "outputId": "3ea691da-3f3f-4bf6-c0b3-f3d031118b1f"
      },
      "id": "4eg_l61Sxliz",
      "execution_count": 81,
      "outputs": [
        {
          "output_type": "stream",
          "name": "stdout",
          "text": [
            "59/59 - 2s - loss: 0.3479 - accuracy: 0.8814 - 2s/epoch - 40ms/step\n",
            "\n",
            "Test accuracy: 0.8813559412956238\n"
          ]
        }
      ]
    },
    {
      "cell_type": "code",
      "source": [
        "y_test_arg3=np.argmax(Y_test,axis=1)\n",
        "Y_pred3 = np.argmax(model3.predict(X_test),axis=1)\n",
        "print('Confusion Matrix')\n",
        "print(confusion_matrix(Y_pred3,y_test_arg3))"
      ],
      "metadata": {
        "id": "Agf8tWkBxl03",
        "colab": {
          "base_uri": "https://localhost:8080/"
        },
        "outputId": "e3bdb93a-c442-42f7-db87-5db36111d56a"
      },
      "id": "Agf8tWkBxl03",
      "execution_count": 82,
      "outputs": [
        {
          "output_type": "stream",
          "name": "stdout",
          "text": [
            "Confusion Matrix\n",
            "[[249  43   2]\n",
            " [ 25 538  90]\n",
            " [  5  59 877]]\n"
          ]
        }
      ]
    },
    {
      "cell_type": "code",
      "source": [
        "import seaborn as sns\n",
        "y_test_arg3=np.argmax(Y_test,axis=1)\n",
        "Y_pred3 = np.argmax(model3.predict(X_test),axis=1)\n",
        "cm =confusion_matrix(Y_pred3,y_test_arg3)\n",
        "cm_df = pd.DataFrame(cm,index = ['Negative','Neutral','Positive'],columns = ['Negative','Neutral','Positive'])\n",
        "\n",
        "plt.figure(figsize=(8,6))\n",
        "sns.heatmap(cm_df, annot=True, fmt='g',cmap=\"Blues\")\n",
        "plt.ylabel('True label')\n",
        "plt.xlabel('Predicted label')\n",
        "plt.show()"
      ],
      "metadata": {
        "id": "Dt756zJ6xmDB",
        "colab": {
          "base_uri": "https://localhost:8080/",
          "height": 388
        },
        "outputId": "4488a0d5-7de7-4d41-b6e5-7946177bf728"
      },
      "id": "Dt756zJ6xmDB",
      "execution_count": 83,
      "outputs": [
        {
          "output_type": "display_data",
          "data": {
            "text/plain": [
              "<Figure size 576x432 with 2 Axes>"
            ],
            "image/png": "[encoded data removed]"
          },
          "metadata": {
            "needs_background": "light"
          }
        }
      ]
    },
    {
      "cell_type": "code",
      "source": [
        "# The formula for the standard F1-score is the harmonic mean of the precision and recall. A perfect model has an F-score of 1.\n",
        "from sklearn.metrics import f1_score\n",
        "print('F1-score: {0}'.format(f1_score(Y_pred3,y_test_arg3,average='weighted')))"
      ],
      "metadata": {
        "id": "SpteQ-OrxmRp",
        "colab": {
          "base_uri": "https://localhost:8080/"
        },
        "outputId": "46eb3f1f-4650-4a15-e869-29334aecab7b"
      },
      "id": "SpteQ-OrxmRp",
      "execution_count": 84,
      "outputs": [
        {
          "output_type": "stream",
          "name": "stdout",
          "text": [
            "F1-score: 0.8808638274195606\n"
          ]
        }
      ]
    },
    {
      "cell_type": "code",
      "source": [
        "import matplotlib.pyplot as plt\n",
        "plt.plot(trained_model3.history['accuracy'],color='red')\n",
        "plt.plot(trained_model3.history['val_accuracy'],color='green')\n",
        "\n",
        "plt.title('model accuracy')\n",
        "plt.ylabel('accuracy')\n",
        "plt.xlabel('epoch')\n",
        "plt.legend(['train','Val'], loc='upper left')\n",
        "plt.show()\n",
        "\n",
        "plt.plot(trained_model3.history['loss'],color='red')\n",
        "plt.plot(trained_model3.history['val_loss'],color='green')\n",
        "\n",
        "plt.title('model loss')\n",
        "plt.ylabel('loss')\n",
        "plt.xlabel('epoch')\n",
        "plt.legend(['train','Val'], loc='upper left')\n",
        "plt.show()"
      ],
      "metadata": {
        "id": "MidVWXxqyLJO",
        "colab": {
          "base_uri": "https://localhost:8080/",
          "height": 573
        },
        "outputId": "9ed331bb-73c8-466d-f1ab-e9c66869ea4b"
      },
      "id": "MidVWXxqyLJO",
      "execution_count": 85,
      "outputs": [
        {
          "output_type": "display_data",
          "data": {
            "text/plain": [
              "<Figure size 432x288 with 1 Axes>"
            ],
            "image/png": "[encoded data removed]"
          },
          "metadata": {
            "needs_background": "light"
          }
        },
        {
          "output_type": "display_data",
          "data": {
            "text/plain": [
              "<Figure size 432x288 with 1 Axes>"
            ],
            "image/png": "[encoded data removed]"
          },
          "metadata": {
            "needs_background": "light"
          }
        }
      ]
    },
    {
      "cell_type": "markdown",
      "source": [
        "### **Testing it with User Inputs**"
      ],
      "metadata": {
        "id": "4-m17dx4ZTo_"
      },
      "id": "4-m17dx4ZTo_"
    },
    {
      "cell_type": "markdown",
      "source": [
        "All our models are performing well. There isn't much difference between them. By considering the difference between the Training and Validation Accuracy we select both GRU and LSTM model for predicting with user inputs.\n"
      ],
      "metadata": {
        "id": "wg3f9mXyTXQd"
      },
      "id": "wg3f9mXyTXQd"
    },
    {
      "cell_type": "code",
      "source": [
        "# MODEL 1 PERFORMANCE ON USER INPUT (LSTM) - Predicting a Positive review\n",
        "new_review = ['I love this place. Wondeful service and amazing staff']\n",
        "seq = tokenizer.texts_to_sequences(new_review)\n",
        "padded = pad_sequences(seq, maxlen=MAX_SEQUENCE_LENGTH)\n",
        "pred = model1.predict(padded)\n",
        "labels = [-1,0,1]\n",
        "print(pred, labels[np.argmax(pred)])"
      ],
      "metadata": {
        "id": "YZkIIki8WEdV",
        "colab": {
          "base_uri": "https://localhost:8080/"
        },
        "outputId": "e7616d34-d0a8-4d02-a6c9-b64481feb58e"
      },
      "id": "YZkIIki8WEdV",
      "execution_count": 86,
      "outputs": [
        {
          "output_type": "stream",
          "name": "stdout",
          "text": [
            "[[1.2501747e-04 4.3478351e-02 9.5639658e-01]] 1\n"
          ]
        }
      ]
    },
    {
      "cell_type": "code",
      "source": [
        "# MODEL 1 PERFORMANCE ON USER INPUT (LSTM) - Predicting a Negative review\n",
        "new_review = ['I hate this place. Worst service and staff!']\n",
        "seq = tokenizer.texts_to_sequences(new_review)\n",
        "padded = pad_sequences(seq, maxlen=MAX_SEQUENCE_LENGTH)\n",
        "pred = model1.predict(padded)\n",
        "labels = [-1,0,1]\n",
        "print(pred, labels[np.argmax(pred)])"
      ],
      "metadata": {
        "id": "ErYX6WaOWFFW",
        "colab": {
          "base_uri": "https://localhost:8080/"
        },
        "outputId": "3e9b678e-b672-474c-8be4-fc6190e41c58"
      },
      "id": "ErYX6WaOWFFW",
      "execution_count": 87,
      "outputs": [
        {
          "output_type": "stream",
          "name": "stdout",
          "text": [
            "[[9.991596e-01 8.385537e-04 1.960637e-06]] -1\n"
          ]
        }
      ]
    },
    {
      "cell_type": "code",
      "source": [
        "# MODEL 1 PERFORMANCE ON USER INPUT (LSTM) - Predicting a Neutral review\n",
        "new_review = ['The food was okay. The place was loud too.']\n",
        "seq = tokenizer.texts_to_sequences(new_review)\n",
        "padded = pad_sequences(seq, maxlen=MAX_SEQUENCE_LENGTH)\n",
        "pred = model1.predict(padded)\n",
        "labels = [-1,0,1]\n",
        "print(pred, labels[np.argmax(pred)])"
      ],
      "metadata": {
        "id": "Uu_WV0zTV8r-",
        "colab": {
          "base_uri": "https://localhost:8080/"
        },
        "outputId": "09144e0f-6a38-4fa7-bd88-2113f11eda44"
      },
      "id": "Uu_WV0zTV8r-",
      "execution_count": 88,
      "outputs": [
        {
          "output_type": "stream",
          "name": "stdout",
          "text": [
            "[[0.00663906 0.58394873 0.40941224]] 0\n"
          ]
        }
      ]
    },
    {
      "cell_type": "code",
      "source": [
        "# MODEL 2 PERFORMANCE ON USER INPUT (GRU) - Predicting a Positive review\n",
        "new_review = ['Amazing, just amazing. Great portions, great service, large number of options to choose from (including desserts), ample seating, restroom and option for self or table service definitely worth it.']\n",
        "seq = tokenizer.texts_to_sequences(new_review)\n",
        "padded = pad_sequences(seq, maxlen=MAX_SEQUENCE_LENGTH)\n",
        "pred = model2.predict(padded)\n",
        "labels = [-1,0,1]\n",
        "print(pred, labels[np.argmax(pred)])"
      ],
      "metadata": {
        "id": "7EDtyqA90iYm",
        "colab": {
          "base_uri": "https://localhost:8080/"
        },
        "outputId": "f5b7a98a-82d0-4d44-ff18-655fa30bf2a1"
      },
      "id": "7EDtyqA90iYm",
      "execution_count": 92,
      "outputs": [
        {
          "output_type": "stream",
          "name": "stdout",
          "text": [
            "[[1.3964626e-07 4.0746145e-02 9.5925379e-01]] 1\n"
          ]
        }
      ]
    },
    {
      "cell_type": "code",
      "source": [
        "# MODEL 2 PERFORMANCE ON USER INPUT (GRU) - Predicting a Negative review\n",
        "new_review = ['The food was cold. It could have been better. Not worth the time and money!!! What a waste:/']\n",
        "seq = tokenizer.texts_to_sequences(new_review)\n",
        "padded = pad_sequences(seq, maxlen=MAX_SEQUENCE_LENGTH)\n",
        "pred = model2.predict(padded)\n",
        "labels = [-1,0,1]\n",
        "print(pred, labels[np.argmax(pred)])"
      ],
      "metadata": {
        "id": "ILp6b6HosD19",
        "colab": {
          "base_uri": "https://localhost:8080/"
        },
        "outputId": "080c3a43-fecf-4940-ad58-88ebef5241c3"
      },
      "id": "ILp6b6HosD19",
      "execution_count": 91,
      "outputs": [
        {
          "output_type": "stream",
          "name": "stdout",
          "text": [
            "[[8.8512778e-01 1.1482680e-01 4.5491997e-05]] -1\n"
          ]
        }
      ]
    },
    {
      "cell_type": "code",
      "source": [
        "# MODEL 2 PERFORMANCE ON USER INPUT (GRU) - Predicting a Neutral review\n",
        "new_review = ['The outdoor seating was excellent but the food was bad.']\n",
        "seq = tokenizer.texts_to_sequences(new_review)\n",
        "padded = pad_sequences(seq, maxlen=MAX_SEQUENCE_LENGTH)\n",
        "pred = model2.predict(padded)\n",
        "labels = [-1,0,1]\n",
        "print(pred, labels[np.argmax(pred)])"
      ],
      "metadata": {
        "id": "paiYrejb0LRI",
        "colab": {
          "base_uri": "https://localhost:8080/"
        },
        "outputId": "6bba4fbe-f0b0-448d-eda7-17b03faa1cb4"
      },
      "id": "paiYrejb0LRI",
      "execution_count": 89,
      "outputs": [
        {
          "output_type": "stream",
          "name": "stdout",
          "text": [
            "[[0.14844117 0.59749854 0.2540603 ]] 0\n"
          ]
        }
      ]
    }
  ],
  "metadata": {
    "kernelspec": {
      "display_name": "Python 3 (ipykernel)",
      "language": "python",
      "name": "python3"
    },
    "language_info": {
      "codemirror_mode": {
        "name": "ipython",
        "version": 3
      },
      "file_extension": ".py",
      "mimetype": "text/x-python",
      "name": "python",
      "nbconvert_exporter": "python",
      "pygments_lexer": "ipython3",
      "version": "3.9.11"
    },
    "colab": {
      "name": "Group5_Project_Pythonfile_DS2_2022",
      "provenance": [],
      "collapsed_sections": [
        "L27L4L_gyY5b"
      ]
    }
  },
  "nbformat": 4,
  "nbformat_minor": 5
}